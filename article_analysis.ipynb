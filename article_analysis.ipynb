{
 "cells": [
  {
   "cell_type": "code",
   "execution_count": 21,
   "metadata": {
    "executionInfo": {
     "elapsed": 366,
     "status": "ok",
     "timestamp": 1702377218267,
     "user": {
      "displayName": "hari prasad",
      "userId": "12443985723574392235"
     },
     "user_tz": -330
    },
    "id": "gvRHMxebsGNa"
   },
   "outputs": [],
   "source": [
    "import pandas as pd\n",
    "import re\n",
    "import os\n",
    "import numpy as np\n",
    "import requests\n",
    "from bs4 import BeautifulSoup\n",
    "import nltk\n",
    "from nltk.tokenize import word_tokenize,sent_tokenize\n",
    "from nltk.corpus import cmudict\n",
    "import string\n",
    "from collections import Counter\n",
    "import matplotlib.pyplot as plt\n",
    "import chardet\n",
    "from zipfile import ZipFile\n",
    "import spacy\n",
    "from wordcloud import WordCloud\n",
    "try:\n",
    "  from spacy_syllables import SpacySyllables\n",
    "except ModuleNotFoundError:\n",
    "  !pip install spacy_syllables\n",
    "  from spacy_syllables import SpacySyllables"
   ]
  },
  {
   "cell_type": "code",
   "execution_count": 3,
   "metadata": {
    "colab": {
     "base_uri": "https://localhost:8080/",
     "height": 206
    },
    "executionInfo": {
     "elapsed": 1257,
     "status": "ok",
     "timestamp": 1702376904446,
     "user": {
      "displayName": "hari prasad",
      "userId": "12443985723574392235"
     },
     "user_tz": -330
    },
    "id": "hIh5als6czUv",
    "outputId": "0dfbde67-e2f4-4a05-800c-6334a56323fe"
   },
   "outputs": [
    {
     "data": {
      "text/html": [
       "\n",
       "  <div id=\"df-6d0cd65d-3d95-4425-8d27-74a81ae2e282\" class=\"colab-df-container\">\n",
       "    <div>\n",
       "<style scoped>\n",
       "    .dataframe tbody tr th:only-of-type {\n",
       "        vertical-align: middle;\n",
       "    }\n",
       "\n",
       "    .dataframe tbody tr th {\n",
       "        vertical-align: top;\n",
       "    }\n",
       "\n",
       "    .dataframe thead th {\n",
       "        text-align: right;\n",
       "    }\n",
       "</style>\n",
       "<table border=\"1\" class=\"dataframe\">\n",
       "  <thead>\n",
       "    <tr style=\"text-align: right;\">\n",
       "      <th></th>\n",
       "      <th>URL_ID</th>\n",
       "      <th>URL</th>\n",
       "    </tr>\n",
       "  </thead>\n",
       "  <tbody>\n",
       "    <tr>\n",
       "      <th>0</th>\n",
       "      <td>blackassign0001</td>\n",
       "      <td>https://insights.blackcoffer.com/rising-it-cit...</td>\n",
       "    </tr>\n",
       "    <tr>\n",
       "      <th>1</th>\n",
       "      <td>blackassign0002</td>\n",
       "      <td>https://insights.blackcoffer.com/rising-it-cit...</td>\n",
       "    </tr>\n",
       "    <tr>\n",
       "      <th>2</th>\n",
       "      <td>blackassign0003</td>\n",
       "      <td>https://insights.blackcoffer.com/internet-dema...</td>\n",
       "    </tr>\n",
       "    <tr>\n",
       "      <th>3</th>\n",
       "      <td>blackassign0004</td>\n",
       "      <td>https://insights.blackcoffer.com/rise-of-cyber...</td>\n",
       "    </tr>\n",
       "    <tr>\n",
       "      <th>4</th>\n",
       "      <td>blackassign0005</td>\n",
       "      <td>https://insights.blackcoffer.com/ott-platform-...</td>\n",
       "    </tr>\n",
       "  </tbody>\n",
       "</table>\n",
       "</div>\n",
       "    <div class=\"colab-df-buttons\">\n",
       "\n",
       "  <div class=\"colab-df-container\">\n",
       "    <button class=\"colab-df-convert\" onclick=\"convertToInteractive('df-6d0cd65d-3d95-4425-8d27-74a81ae2e282')\"\n",
       "            title=\"Convert this dataframe to an interactive table.\"\n",
       "            style=\"display:none;\">\n",
       "\n",
       "  <svg xmlns=\"http://www.w3.org/2000/svg\" height=\"24px\" viewBox=\"0 -960 960 960\">\n",
       "    <path d=\"M120-120v-720h720v720H120Zm60-500h600v-160H180v160Zm220 220h160v-160H400v160Zm0 220h160v-160H400v160ZM180-400h160v-160H180v160Zm440 0h160v-160H620v160ZM180-180h160v-160H180v160Zm440 0h160v-160H620v160Z\"/>\n",
       "  </svg>\n",
       "    </button>\n",
       "\n",
       "  <style>\n",
       "    .colab-df-container {\n",
       "      display:flex;\n",
       "      gap: 12px;\n",
       "    }\n",
       "\n",
       "    .colab-df-convert {\n",
       "      background-color: #E8F0FE;\n",
       "      border: none;\n",
       "      border-radius: 50%;\n",
       "      cursor: pointer;\n",
       "      display: none;\n",
       "      fill: #1967D2;\n",
       "      height: 32px;\n",
       "      padding: 0 0 0 0;\n",
       "      width: 32px;\n",
       "    }\n",
       "\n",
       "    .colab-df-convert:hover {\n",
       "      background-color: #E2EBFA;\n",
       "      box-shadow: 0px 1px 2px rgba(60, 64, 67, 0.3), 0px 1px 3px 1px rgba(60, 64, 67, 0.15);\n",
       "      fill: #174EA6;\n",
       "    }\n",
       "\n",
       "    .colab-df-buttons div {\n",
       "      margin-bottom: 4px;\n",
       "    }\n",
       "\n",
       "    [theme=dark] .colab-df-convert {\n",
       "      background-color: #3B4455;\n",
       "      fill: #D2E3FC;\n",
       "    }\n",
       "\n",
       "    [theme=dark] .colab-df-convert:hover {\n",
       "      background-color: #434B5C;\n",
       "      box-shadow: 0px 1px 3px 1px rgba(0, 0, 0, 0.15);\n",
       "      filter: drop-shadow(0px 1px 2px rgba(0, 0, 0, 0.3));\n",
       "      fill: #FFFFFF;\n",
       "    }\n",
       "  </style>\n",
       "\n",
       "    <script>\n",
       "      const buttonEl =\n",
       "        document.querySelector('#df-6d0cd65d-3d95-4425-8d27-74a81ae2e282 button.colab-df-convert');\n",
       "      buttonEl.style.display =\n",
       "        google.colab.kernel.accessAllowed ? 'block' : 'none';\n",
       "\n",
       "      async function convertToInteractive(key) {\n",
       "        const element = document.querySelector('#df-6d0cd65d-3d95-4425-8d27-74a81ae2e282');\n",
       "        const dataTable =\n",
       "          await google.colab.kernel.invokeFunction('convertToInteractive',\n",
       "                                                    [key], {});\n",
       "        if (!dataTable) return;\n",
       "\n",
       "        const docLinkHtml = 'Like what you see? Visit the ' +\n",
       "          '<a target=\"_blank\" href=https://colab.research.google.com/notebooks/data_table.ipynb>data table notebook</a>'\n",
       "          + ' to learn more about interactive tables.';\n",
       "        element.innerHTML = '';\n",
       "        dataTable['output_type'] = 'display_data';\n",
       "        await google.colab.output.renderOutput(dataTable, element);\n",
       "        const docLink = document.createElement('div');\n",
       "        docLink.innerHTML = docLinkHtml;\n",
       "        element.appendChild(docLink);\n",
       "      }\n",
       "    </script>\n",
       "  </div>\n",
       "\n",
       "\n",
       "<div id=\"df-abc3dfe7-db63-4537-a9f9-db6d123c1ddd\">\n",
       "  <button class=\"colab-df-quickchart\" onclick=\"quickchart('df-abc3dfe7-db63-4537-a9f9-db6d123c1ddd')\"\n",
       "            title=\"Suggest charts\"\n",
       "            style=\"display:none;\">\n",
       "\n",
       "<svg xmlns=\"http://www.w3.org/2000/svg\" height=\"24px\"viewBox=\"0 0 24 24\"\n",
       "     width=\"24px\">\n",
       "    <g>\n",
       "        <path d=\"M19 3H5c-1.1 0-2 .9-2 2v14c0 1.1.9 2 2 2h14c1.1 0 2-.9 2-2V5c0-1.1-.9-2-2-2zM9 17H7v-7h2v7zm4 0h-2V7h2v10zm4 0h-2v-4h2v4z\"/>\n",
       "    </g>\n",
       "</svg>\n",
       "  </button>\n",
       "\n",
       "<style>\n",
       "  .colab-df-quickchart {\n",
       "      --bg-color: #E8F0FE;\n",
       "      --fill-color: #1967D2;\n",
       "      --hover-bg-color: #E2EBFA;\n",
       "      --hover-fill-color: #174EA6;\n",
       "      --disabled-fill-color: #AAA;\n",
       "      --disabled-bg-color: #DDD;\n",
       "  }\n",
       "\n",
       "  [theme=dark] .colab-df-quickchart {\n",
       "      --bg-color: #3B4455;\n",
       "      --fill-color: #D2E3FC;\n",
       "      --hover-bg-color: #434B5C;\n",
       "      --hover-fill-color: #FFFFFF;\n",
       "      --disabled-bg-color: #3B4455;\n",
       "      --disabled-fill-color: #666;\n",
       "  }\n",
       "\n",
       "  .colab-df-quickchart {\n",
       "    background-color: var(--bg-color);\n",
       "    border: none;\n",
       "    border-radius: 50%;\n",
       "    cursor: pointer;\n",
       "    display: none;\n",
       "    fill: var(--fill-color);\n",
       "    height: 32px;\n",
       "    padding: 0;\n",
       "    width: 32px;\n",
       "  }\n",
       "\n",
       "  .colab-df-quickchart:hover {\n",
       "    background-color: var(--hover-bg-color);\n",
       "    box-shadow: 0 1px 2px rgba(60, 64, 67, 0.3), 0 1px 3px 1px rgba(60, 64, 67, 0.15);\n",
       "    fill: var(--button-hover-fill-color);\n",
       "  }\n",
       "\n",
       "  .colab-df-quickchart-complete:disabled,\n",
       "  .colab-df-quickchart-complete:disabled:hover {\n",
       "    background-color: var(--disabled-bg-color);\n",
       "    fill: var(--disabled-fill-color);\n",
       "    box-shadow: none;\n",
       "  }\n",
       "\n",
       "  .colab-df-spinner {\n",
       "    border: 2px solid var(--fill-color);\n",
       "    border-color: transparent;\n",
       "    border-bottom-color: var(--fill-color);\n",
       "    animation:\n",
       "      spin 1s steps(1) infinite;\n",
       "  }\n",
       "\n",
       "  @keyframes spin {\n",
       "    0% {\n",
       "      border-color: transparent;\n",
       "      border-bottom-color: var(--fill-color);\n",
       "      border-left-color: var(--fill-color);\n",
       "    }\n",
       "    20% {\n",
       "      border-color: transparent;\n",
       "      border-left-color: var(--fill-color);\n",
       "      border-top-color: var(--fill-color);\n",
       "    }\n",
       "    30% {\n",
       "      border-color: transparent;\n",
       "      border-left-color: var(--fill-color);\n",
       "      border-top-color: var(--fill-color);\n",
       "      border-right-color: var(--fill-color);\n",
       "    }\n",
       "    40% {\n",
       "      border-color: transparent;\n",
       "      border-right-color: var(--fill-color);\n",
       "      border-top-color: var(--fill-color);\n",
       "    }\n",
       "    60% {\n",
       "      border-color: transparent;\n",
       "      border-right-color: var(--fill-color);\n",
       "    }\n",
       "    80% {\n",
       "      border-color: transparent;\n",
       "      border-right-color: var(--fill-color);\n",
       "      border-bottom-color: var(--fill-color);\n",
       "    }\n",
       "    90% {\n",
       "      border-color: transparent;\n",
       "      border-bottom-color: var(--fill-color);\n",
       "    }\n",
       "  }\n",
       "</style>\n",
       "\n",
       "  <script>\n",
       "    async function quickchart(key) {\n",
       "      const quickchartButtonEl =\n",
       "        document.querySelector('#' + key + ' button');\n",
       "      quickchartButtonEl.disabled = true;  // To prevent multiple clicks.\n",
       "      quickchartButtonEl.classList.add('colab-df-spinner');\n",
       "      try {\n",
       "        const charts = await google.colab.kernel.invokeFunction(\n",
       "            'suggestCharts', [key], {});\n",
       "      } catch (error) {\n",
       "        console.error('Error during call to suggestCharts:', error);\n",
       "      }\n",
       "      quickchartButtonEl.classList.remove('colab-df-spinner');\n",
       "      quickchartButtonEl.classList.add('colab-df-quickchart-complete');\n",
       "    }\n",
       "    (() => {\n",
       "      let quickchartButtonEl =\n",
       "        document.querySelector('#df-abc3dfe7-db63-4537-a9f9-db6d123c1ddd button');\n",
       "      quickchartButtonEl.style.display =\n",
       "        google.colab.kernel.accessAllowed ? 'block' : 'none';\n",
       "    })();\n",
       "  </script>\n",
       "</div>\n",
       "    </div>\n",
       "  </div>\n"
      ],
      "text/plain": [
       "            URL_ID                                                URL\n",
       "0  blackassign0001  https://insights.blackcoffer.com/rising-it-cit...\n",
       "1  blackassign0002  https://insights.blackcoffer.com/rising-it-cit...\n",
       "2  blackassign0003  https://insights.blackcoffer.com/internet-dema...\n",
       "3  blackassign0004  https://insights.blackcoffer.com/rise-of-cyber...\n",
       "4  blackassign0005  https://insights.blackcoffer.com/ott-platform-..."
      ]
     },
     "execution_count": 3,
     "metadata": {},
     "output_type": "execute_result"
    }
   ],
   "source": [
    "df=pd.read_excel('/content/Input.xlsx')\n",
    "df.head()"
   ]
  },
  {
   "cell_type": "code",
   "execution_count": 4,
   "metadata": {
    "colab": {
     "base_uri": "https://localhost:8080/"
    },
    "executionInfo": {
     "elapsed": 3,
     "status": "ok",
     "timestamp": 1702376906359,
     "user": {
      "displayName": "hari prasad",
      "userId": "12443985723574392235"
     },
     "user_tz": -330
    },
    "id": "NbOwgjpgdLds",
    "outputId": "8d7538b4-a3d5-4844-e44e-3093201f7c6c"
   },
   "outputs": [
    {
     "data": {
      "text/plain": [
       "(100, 2)"
      ]
     },
     "execution_count": 4,
     "metadata": {},
     "output_type": "execute_result"
    }
   ],
   "source": [
    "df.shape"
   ]
  },
  {
   "cell_type": "code",
   "execution_count": 5,
   "metadata": {
    "executionInfo": {
     "elapsed": 38017,
     "status": "ok",
     "timestamp": 1702376951963,
     "user": {
      "displayName": "hari prasad",
      "userId": "12443985723574392235"
     },
     "user_tz": -330
    },
    "id": "mZHtR0ZXlIFq"
   },
   "outputs": [],
   "source": [
    "dirname_text='text_files'\n",
    "def scrape_to_text(dirname):\n",
    "  f=dirname\n",
    "  os.mkdir(f)\n",
    "  no_art=[]\n",
    "  for art in range(len(df)):\n",
    "    url=df['URL'][art]\n",
    "    url_id=str(df['URL_ID'][art])\n",
    "    response=requests.get(url)\n",
    "    if response:\n",
    "      html=BeautifulSoup(response.content,'lxml')\n",
    "      if '404' not in html.find('h3',class_='tdm-title tdm-title-md').text:\n",
    "        title=html.find('h1').text\n",
    "        art_tag=html.find('div',class_='td-post-content tagdiv-type')\n",
    "        if art_tag!=None:\n",
    "          article=art_tag.text.strip()\n",
    "          article=title+re.sub(r'Blackcoffer.*','',article)\n",
    "        else:\n",
    "          li=html.find_all('p',class_=False)\n",
    "          article=' '.join([p.text.strip() for p in li])\n",
    "        if os.path.exists(f) and os.path.isdir(f):\n",
    "            ftext=os.path.join(f,url_id+'.txt')\n",
    "            with open(ftext,'w') as file:\n",
    "              file.write(article)\n",
    "scrape_to_text(dirname_text)\n"
   ]
  },
  {
   "cell_type": "code",
   "execution_count": 7,
   "metadata": {
    "colab": {
     "base_uri": "https://localhost:8080/"
    },
    "executionInfo": {
     "elapsed": 694,
     "status": "ok",
     "timestamp": 1702376971898,
     "user": {
      "displayName": "hari prasad",
      "userId": "12443985723574392235"
     },
     "user_tz": -330
    },
    "id": "UuxyhC_k0zLY",
    "outputId": "5b70da0c-ec05-44b4-8d9d-e732bba8577f"
   },
   "outputs": [
    {
     "name": "stdout",
     "output_type": "stream",
     "text": [
      "No of articles scraped from 100: 98\n"
     ]
    }
   ],
   "source": [
    "#Some were not scraped as they were found to be error or deleted\n",
    "print('No of articles scraped from 100:',len(os.listdir(dirname_text)))"
   ]
  },
  {
   "cell_type": "code",
   "execution_count": 8,
   "metadata": {
    "executionInfo": {
     "elapsed": 363,
     "status": "ok",
     "timestamp": 1702376983391,
     "user": {
      "displayName": "hari prasad",
      "userId": "12443985723574392235"
     },
     "user_tz": -330
    },
    "id": "86XIW-Mi08xD"
   },
   "outputs": [],
   "source": [
    "#Loading all text files in directory into a list(dir_name is folder u scraped articles text to)\n",
    "def load_text_files(dir_name):\n",
    "  text_list=[]\n",
    "  text_files=os.listdir(dir_name)\n",
    "  text_files_sorted=sorted(text_files)\n",
    "  for fi in text_files:\n",
    "    fname=os.path.join(dir_name,fi)\n",
    "    with open(fname,'r',encoding='utf-8') as myfile:\n",
    "      text_list.append(myfile.read().strip().lower().replace('\\uf0b7','').replace('“','').replace('’','').replace('”',''))\n",
    "  return text_list"
   ]
  },
  {
   "cell_type": "code",
   "execution_count": 9,
   "metadata": {
    "executionInfo": {
     "elapsed": 351,
     "status": "ok",
     "timestamp": 1702377021670,
     "user": {
      "displayName": "hari prasad",
      "userId": "12443985723574392235"
     },
     "user_tz": -330
    },
    "id": "OZUY0Vv95MPH"
   },
   "outputs": [],
   "source": [
    "#function to extract zip files\n",
    "def extract_zipfiles(file):\n",
    "  zf=ZipFile(file)\n",
    "  zf.extractall()\n",
    "  zf.close()\n",
    "extract_zipfiles('/content/StopWords-20231212T055033Z-001.zip')"
   ]
  },
  {
   "cell_type": "code",
   "execution_count": 10,
   "metadata": {
    "executionInfo": {
     "elapsed": 3,
     "status": "ok",
     "timestamp": 1702377023282,
     "user": {
      "displayName": "hari prasad",
      "userId": "12443985723574392235"
     },
     "user_tz": -330
    },
    "id": "zUlz-to86MrA"
   },
   "outputs": [],
   "source": [
    "#Generates list of stopwords from folder given and preprocesses it\n",
    "def stopwords_corpus(dir_name):\n",
    "  stopwords=[]\n",
    "  file_stop=dir_name\n",
    "  for f in os.listdir(file_stop):\n",
    "    fname=os.path.join(file_stop,f)\n",
    "    #To check or use efficient encoding of a text use chardet library\n",
    "    #chardet.detect(text)['encoding']\n",
    "    if 'Currencies' in fname:\n",
    "      with open(fname,'r',encoding='ISO-8859-1') as stop_w:\n",
    "        words=stop_w.read().strip().lower()\n",
    "        stopwords.extend(re.sub(r'\\s*\\|\\s*.*','',words).split('\\n'))\n",
    "    else:\n",
    "      with open(fname,'r') as stop_w:\n",
    "        words=stop_w.read().strip().lower()\n",
    "        stopwords.extend(re.sub(r'\\s*\\|\\s*.*','',words).split('\\n'))\n",
    "  return stopwords"
   ]
  },
  {
   "cell_type": "code",
   "execution_count": 11,
   "metadata": {
    "colab": {
     "base_uri": "https://localhost:8080/"
    },
    "executionInfo": {
     "elapsed": 564,
     "status": "ok",
     "timestamp": 1702377025197,
     "user": {
      "displayName": "hari prasad",
      "userId": "12443985723574392235"
     },
     "user_tz": -330
    },
    "id": "TaZdRr26BYfZ",
    "outputId": "bf95e0de-82ba-43e4-f91b-0f7b0a5943b1"
   },
   "outputs": [
    {
     "name": "stderr",
     "output_type": "stream",
     "text": [
      "[nltk_data] Downloading package punkt to /root/nltk_data...\n",
      "[nltk_data]   Unzipping tokenizers/punkt.zip.\n"
     ]
    },
    {
     "data": {
      "text/plain": [
       "True"
      ]
     },
     "execution_count": 11,
     "metadata": {},
     "output_type": "execute_result"
    }
   ],
   "source": [
    "nltk.download('punkt')"
   ]
  },
  {
   "cell_type": "code",
   "execution_count": 12,
   "metadata": {
    "executionInfo": {
     "elapsed": 5,
     "status": "ok",
     "timestamp": 1702377026764,
     "user": {
      "displayName": "hari prasad",
      "userId": "12443985723574392235"
     },
     "user_tz": -330
    },
    "id": "eTb9pOjwC9KF"
   },
   "outputs": [],
   "source": [
    "punc=string.punctuation"
   ]
  },
  {
   "cell_type": "code",
   "execution_count": 13,
   "metadata": {
    "colab": {
     "base_uri": "https://localhost:8080/",
     "height": 35
    },
    "executionInfo": {
     "elapsed": 11,
     "status": "ok",
     "timestamp": 1702377028257,
     "user": {
      "displayName": "hari prasad",
      "userId": "12443985723574392235"
     },
     "user_tz": -330
    },
    "id": "q6YxX5SVDD1i",
    "outputId": "c58b98eb-5c67-40c0-bd46-fb120475e17a"
   },
   "outputs": [
    {
     "data": {
      "application/vnd.google.colaboratory.intrinsic+json": {
       "type": "string"
      },
      "text/plain": [
       "'!\"#$%&\\'()*+,-./:;<=>?@[\\\\]^_`{|}~'"
      ]
     },
     "execution_count": 13,
     "metadata": {},
     "output_type": "execute_result"
    }
   ],
   "source": [
    "punc"
   ]
  },
  {
   "cell_type": "code",
   "execution_count": 14,
   "metadata": {
    "executionInfo": {
     "elapsed": 2,
     "status": "ok",
     "timestamp": 1702377029835,
     "user": {
      "displayName": "hari prasad",
      "userId": "12443985723574392235"
     },
     "user_tz": -330
    },
    "id": "MWGsUw-W73y3"
   },
   "outputs": [],
   "source": [
    "#Preprocessed tokens without stopwords or punctuation\n",
    "def cleaned_text(text_list,stopwords):\n",
    "  token_list=[]\n",
    "  sent_list=[]\n",
    "  for i in range(len(text_list)):\n",
    "    tokens=[word_tokenize(sent) for sent in sent_tokenize(text_list[i])]\n",
    "    new_tokens_1=[t for s in tokens for t in s if t not in stopwords and t not in punc]\n",
    "    new_tokens_2=[[t for t in s if t not in stopwords and t not in punc] for s in tokens]\n",
    "    token_list.append(new_tokens_1)\n",
    "    sent_list.append(new_tokens_2)\n",
    "  return token_list,sent_list"
   ]
  },
  {
   "cell_type": "code",
   "execution_count": 15,
   "metadata": {
    "executionInfo": {
     "elapsed": 5,
     "status": "ok",
     "timestamp": 1702377031273,
     "user": {
      "displayName": "hari prasad",
      "userId": "12443985723574392235"
     },
     "user_tz": -330
    },
    "id": "aevbNPUIDy91"
   },
   "outputs": [],
   "source": [
    "#Function to get entire corpus,count of words,sentences in each article\n",
    "def all_counts(token_list,sent_list):\n",
    "  token_corpus=[w for art in token_list for w in art]\n",
    "  word_count=[len(s) for s in token_list]\n",
    "  sent_count=[len(s) for s in sent_list]\n",
    "  return token_corpus,word_count,sent_count"
   ]
  },
  {
   "cell_type": "code",
   "execution_count": 18,
   "metadata": {
    "colab": {
     "base_uri": "https://localhost:8080/"
    },
    "executionInfo": {
     "elapsed": 28914,
     "status": "ok",
     "timestamp": 1702377171144,
     "user": {
      "displayName": "hari prasad",
      "userId": "12443985723574392235"
     },
     "user_tz": -330
    },
    "id": "6ndESfisCSM6",
    "outputId": "a33eb5c6-79b7-4f71-ce3e-bf222acdcd38"
   },
   "outputs": [
    {
     "name": "stdout",
     "output_type": "stream",
     "text": [
      "Total Number of words : 52081\n"
     ]
    }
   ],
   "source": [
    "dirname_stop='StopWords'\n",
    "text_list=load_text_files(dirname_text)\n",
    "stopwords=stopwords_corpus(dirname_stop)\n",
    "token_list,sent_list=cleaned_text(text_list,stopwords)\n",
    "token_corpus,word_count,sent_count=all_counts(token_list,sent_list)\n",
    "total_words=len(token_corpus)\n",
    "print('Total Number of words :',total_words)"
   ]
  },
  {
   "cell_type": "code",
   "execution_count": 19,
   "metadata": {
    "colab": {
     "base_uri": "https://localhost:8080/"
    },
    "executionInfo": {
     "elapsed": 359,
     "status": "ok",
     "timestamp": 1702377184965,
     "user": {
      "displayName": "hari prasad",
      "userId": "12443985723574392235"
     },
     "user_tz": -330
    },
    "id": "PLft0SLhCqop",
    "outputId": "7d5f91d9-b36f-4fbd-d26a-07f5f710d4c6"
   },
   "outputs": [
    {
     "name": "stdout",
     "output_type": "stream",
     "text": [
      "Number of unique words: 9795\n"
     ]
    }
   ],
   "source": [
    "unique_words=set(token_corpus)\n",
    "total_unique_words=len(unique_words)\n",
    "print('Number of unique words:',total_unique_words)"
   ]
  },
  {
   "cell_type": "code",
   "execution_count": 20,
   "metadata": {
    "colab": {
     "base_uri": "https://localhost:8080/"
    },
    "executionInfo": {
     "elapsed": 4,
     "status": "ok",
     "timestamp": 1702377188334,
     "user": {
      "displayName": "hari prasad",
      "userId": "12443985723574392235"
     },
     "user_tz": -330
    },
    "id": "_oe0BGTpUxNs",
    "outputId": "25f0258b-87d1-4f8e-a4d7-3e974ccd8fa2"
   },
   "outputs": [
    {
     "name": "stdout",
     "output_type": "stream",
     "text": [
      "Top 10 frequent words: [('data', 345), ('people', 316), ('world', 241), ('future', 211), ('technology', 208), ('healthcare', 194), ('human', 181), ('work', 178), ('learning', 178), ('time', 172)]\n"
     ]
    }
   ],
   "source": [
    "count=Counter(token_corpus)\n",
    "print('Top 10 frequent words:',count.most_common(10))"
   ]
  },
  {
   "cell_type": "code",
   "execution_count": 22,
   "metadata": {
    "colab": {
     "base_uri": "https://localhost:8080/",
     "height": 396
    },
    "executionInfo": {
     "elapsed": 12471,
     "status": "ok",
     "timestamp": 1702377236532,
     "user": {
      "displayName": "hari prasad",
      "userId": "12443985723574392235"
     },
     "user_tz": -330
    },
    "id": "yaORH8PBYD9X",
    "outputId": "9d00abbe-73a5-4e2d-f56e-64a7f4285cdc"
   },
   "outputs": [
    {
     "data": {
      "image/png": "[encoded data removed]",
      "text/plain": [
       "<Figure size 640x480 with 1 Axes>"
      ]
     },
     "metadata": {},
     "output_type": "display_data"
    }
   ],
   "source": [
    "wc=WordCloud(width=3000,height=2000,background_color='white',colormap='magma',max_font_size=250,min_font_size=15).generate_from_frequencies(count)\n",
    "plt.imshow(wc)\n",
    "plt.show()"
   ]
  },
  {
   "cell_type": "code",
   "execution_count": 23,
   "metadata": {
    "executionInfo": {
     "elapsed": 3,
     "status": "ok",
     "timestamp": 1702377238074,
     "user": {
      "displayName": "hari prasad",
      "userId": "12443985723574392235"
     },
     "user_tz": -330
    },
    "id": "mnQIEiKiYvUv"
   },
   "outputs": [],
   "source": [
    "def pos_neg(pos_file,neg_file):\n",
    "  with open(pos_file,'r') as pos:\n",
    "    p_text=pos.read()\n",
    "    pos_words=p_text.split()\n",
    "  with open(neg_file,'r',encoding='ISO-8859-1') as neg:\n",
    "    n_text=neg.read()\n",
    "    neg_words=n_text.split()\n",
    "  return pos_words,neg_words"
   ]
  },
  {
   "cell_type": "code",
   "execution_count": 24,
   "metadata": {
    "colab": {
     "base_uri": "https://localhost:8080/"
    },
    "executionInfo": {
     "elapsed": 351,
     "status": "ok",
     "timestamp": 1702377243642,
     "user": {
      "displayName": "hari prasad",
      "userId": "12443985723574392235"
     },
     "user_tz": -330
    },
    "id": "lyY4p29GbBIp",
    "outputId": "49e5b1f1-38ce-40c3-fdf0-43b0ccc89959"
   },
   "outputs": [
    {
     "name": "stdout",
     "output_type": "stream",
     "text": [
      "Number of positive words given: 2006\n",
      "Number of negative words given: 4783\n"
     ]
    }
   ],
   "source": [
    "pos_file,neg_file='positive-words.txt','negative-words.txt'\n",
    "pos_words,neg_words=pos_neg(pos_file,neg_file)\n",
    "print('Number of positive words given:',len(pos_words))\n",
    "print('Number of negative words given:',len(neg_words))"
   ]
  },
  {
   "cell_type": "code",
   "execution_count": 25,
   "metadata": {
    "colab": {
     "base_uri": "https://localhost:8080/"
    },
    "executionInfo": {
     "elapsed": 4394,
     "status": "ok",
     "timestamp": 1702377250102,
     "user": {
      "displayName": "hari prasad",
      "userId": "12443985723574392235"
     },
     "user_tz": -330
    },
    "id": "gs79ktCZbCZ1",
    "outputId": "5d6af9b4-1f7a-4395-826a-6b6e3db062b0"
   },
   "outputs": [
    {
     "name": "stdout",
     "output_type": "stream",
     "text": [
      "Total number of positive words in text files: 3156\n",
      "Total number of negative words in text files: 2599\n"
     ]
    }
   ],
   "source": [
    "art_pos_words=[w for w in token_corpus if w in pos_words]\n",
    "art_neg_words=[w for w in token_corpus if w in neg_words]\n",
    "print('Total number of positive words in text files:',len(art_pos_words))\n",
    "print('Total number of negative words in text files:',len(art_neg_words))"
   ]
  },
  {
   "cell_type": "code",
   "execution_count": 26,
   "metadata": {
    "executionInfo": {
     "elapsed": 356,
     "status": "ok",
     "timestamp": 1702377259330,
     "user": {
      "displayName": "hari prasad",
      "userId": "12443985723574392235"
     },
     "user_tz": -330
    },
    "id": "yYKCLpMWdrSU"
   },
   "outputs": [],
   "source": [
    "def no_url_index(dir_name):\n",
    "  no_art_index=[]\n",
    "  files=os.listdir(dir_name)\n",
    "  for i in range(1,len(files)+1):\n",
    "    if str(i) in ' '.join(files):\n",
    "      continue\n",
    "    else:\n",
    "      no_art_index.append(i-1)\n",
    "  return no_art_index"
   ]
  },
  {
   "cell_type": "code",
   "execution_count": 27,
   "metadata": {
    "executionInfo": {
     "elapsed": 426,
     "status": "ok",
     "timestamp": 1702377269367,
     "user": {
      "displayName": "hari prasad",
      "userId": "12443985723574392235"
     },
     "user_tz": -330
    },
    "id": "AQleCHXtg0Ng"
   },
   "outputs": [],
   "source": [
    "def pos_neg_scores(token_list):\n",
    "  positive_score=[]\n",
    "  negative_score=[]\n",
    "  for art in token_list:\n",
    "    p_score=0\n",
    "    n_score=0\n",
    "    for w in art:\n",
    "      if w in pos_words:\n",
    "        p_score+=1\n",
    "      if w in neg_words:\n",
    "        n_score-=1\n",
    "    positive_score.append(p_score)\n",
    "    negative_score.append(n_score*-1)\n",
    "  return positive_score,negative_score"
   ]
  },
  {
   "cell_type": "code",
   "execution_count": 28,
   "metadata": {
    "colab": {
     "base_uri": "https://localhost:8080/"
    },
    "executionInfo": {
     "elapsed": 4260,
     "status": "ok",
     "timestamp": 1702377275673,
     "user": {
      "displayName": "hari prasad",
      "userId": "12443985723574392235"
     },
     "user_tz": -330
    },
    "id": "-1APDp5sifhL",
    "outputId": "93c628e5-c6a6-4eae-ff1c-0969896f7eac"
   },
   "outputs": [
    {
     "data": {
      "text/plain": [
       "array([ 0.49019607, -0.42424242,  0.31578947,  0.21739129,  0.63636362,\n",
       "        0.22033898, -0.375     , -0.14285712,  0.42857137,  0.3030303 ,\n",
       "        0.27777777, -0.31707317,  0.07246377, -0.225     ,  0.        ,\n",
       "        0.48717948, -0.12      ,  0.42222221, -0.28358209, -0.08571428,\n",
       "       -0.29824561,  0.2       , -0.43999998,  0.38461537,  0.14285714,\n",
       "        0.62499998,  0.49999998,  0.57142853,  0.42857137,  0.49999999,\n",
       "       -0.08333333,  0.52212389,  0.03225806, -0.4137931 ,  0.99999975,\n",
       "        0.10144927, -0.22807017, -0.14893617, -0.49999999, -0.39583333,\n",
       "        0.48571427,  0.44615384,  0.3125    ,  0.63333332, -0.30666666,\n",
       "        0.54455445, -0.29411764,  0.39784946,  0.20833333,  0.16666666,\n",
       "        0.2       ,  0.41463414, -0.34426229,  0.29670329, -0.17263844,\n",
       "        0.26190476,  0.13333333,  0.7391304 ,  0.04761905, -0.56435643,\n",
       "        0.81249999,  0.49999988,  0.5135135 ,  0.51515151,  0.2745098 ,\n",
       "       -0.33333333,  0.54838708,  0.09433962,  0.99999996, -0.175     ,\n",
       "        0.21311475,  0.31707316,  0.99999996, -0.2       ,  0.9999998 ,\n",
       "       -0.04918033,  0.38095238, -0.15909091,  0.33333332, -0.59999998,\n",
       "        0.86363634, -0.52173912,  0.4074074 ,  0.19999999,  0.46666666,\n",
       "        0.        , -0.35      ,  0.47368419,  0.13333333,  0.99999986,\n",
       "       -0.49090908, -0.27586206,  0.6521739 ,  0.09433962,  0.4102564 ,\n",
       "        0.29230769,  0.72413791,  0.47619046])"
      ]
     },
     "execution_count": 28,
     "metadata": {},
     "output_type": "execute_result"
    }
   ],
   "source": [
    "#polarity score should be between -1 to +1\n",
    "positive_score,negative_score=pos_neg_scores(token_list)\n",
    "p,n=np.array(positive_score),np.array(negative_score)\n",
    "polarity_score=(p-n)/((p+n)+0.000001)\n",
    "polarity_score"
   ]
  },
  {
   "cell_type": "code",
   "execution_count": 29,
   "metadata": {
    "colab": {
     "base_uri": "https://localhost:8080/"
    },
    "executionInfo": {
     "elapsed": 371,
     "status": "ok",
     "timestamp": 1702377277621,
     "user": {
      "displayName": "hari prasad",
      "userId": "12443985723574392235"
     },
     "user_tz": -330
    },
    "id": "0G0eCrtui2Pz",
    "outputId": "e5c36b94-963a-4a6d-807d-1f9a9637bb0c"
   },
   "outputs": [
    {
     "name": "stdout",
     "output_type": "stream",
     "text": [
      "-0.5999999800000007\n",
      "0.999999958333335\n"
     ]
    }
   ],
   "source": [
    "print(polarity_score.min())\n",
    "print(polarity_score.max())"
   ]
  },
  {
   "cell_type": "code",
   "execution_count": 30,
   "metadata": {
    "colab": {
     "base_uri": "https://localhost:8080/"
    },
    "executionInfo": {
     "elapsed": 4,
     "status": "ok",
     "timestamp": 1702377280427,
     "user": {
      "displayName": "hari prasad",
      "userId": "12443985723574392235"
     },
     "user_tz": -330
    },
    "id": "I6cPbSzmjV_U",
    "outputId": "308b386b-6d5d-486f-a4a9-afd217041f03"
   },
   "outputs": [
    {
     "data": {
      "text/plain": [
       "(98,)"
      ]
     },
     "execution_count": 30,
     "metadata": {},
     "output_type": "execute_result"
    }
   ],
   "source": [
    "polarity_score.shape"
   ]
  },
  {
   "cell_type": "code",
   "execution_count": 31,
   "metadata": {
    "executionInfo": {
     "elapsed": 4,
     "status": "ok",
     "timestamp": 1702377282201,
     "user": {
      "displayName": "hari prasad",
      "userId": "12443985723574392235"
     },
     "user_tz": -330
    },
    "id": "8ZrAnU8Kj25-"
   },
   "outputs": [],
   "source": [
    "w_array=np.array(word_count)\n",
    "s_array=np.array(sent_count)"
   ]
  },
  {
   "cell_type": "code",
   "execution_count": 32,
   "metadata": {
    "colab": {
     "base_uri": "https://localhost:8080/"
    },
    "executionInfo": {
     "elapsed": 6,
     "status": "ok",
     "timestamp": 1702377283905,
     "user": {
      "displayName": "hari prasad",
      "userId": "12443985723574392235"
     },
     "user_tz": -330
    },
    "id": "NO5HaYv-j4fR",
    "outputId": "8f49c1a8-65a8-4d67-e552-c03bcbf6a620"
   },
   "outputs": [
    {
     "data": {
      "text/plain": [
       "array([0.18613139, 0.1314741 , 0.16642336, 0.16083916, 0.21019108,\n",
       "       0.09735974, 0.14746544, 0.05      , 0.03431373, 0.11934901,\n",
       "       0.10285714, 0.19294118, 0.10935024, 0.10457516, 0.08219178,\n",
       "       0.11487482, 0.09933775, 0.14195584, 0.14016736, 0.10948905,\n",
       "       0.17538461, 0.12666667, 0.10964912, 0.07784431, 0.10526316,\n",
       "       0.06438632, 0.10094637, 0.06140351, 0.09459459, 0.07476636,\n",
       "       0.08955224, 0.11078431, 0.10032362, 0.06553672, 0.05063291,\n",
       "       0.10207101, 0.1425    , 0.10444444, 0.14330218, 0.11985019,\n",
       "       0.06529851, 0.10708402, 0.1046892 , 0.10638298, 0.09433962,\n",
       "       0.12227603, 0.12035398, 0.14645669, 0.17235188, 0.05529954,\n",
       "       0.09532062, 0.12480974, 0.0995106 , 0.09578947, 0.18416317,\n",
       "       0.12068965, 0.09630819, 0.08712121, 0.12650602, 0.24337349,\n",
       "       0.07843137, 0.07843137, 0.07889126, 0.08450704, 0.124847  ,\n",
       "       0.18845501, 0.1009772 , 0.08589951, 0.09836066, 0.16194332,\n",
       "       0.10645724, 0.07130435, 0.05066079, 0.08893281, 0.02747253,\n",
       "       0.13174946, 0.10880829, 0.15146299, 0.10122699, 0.09771987,\n",
       "       0.13880126, 0.2377261 , 0.07703281, 0.07777778, 0.09677419,\n",
       "       0.10017271, 0.14897579, 0.05277778, 0.09630819, 0.03664921,\n",
       "       0.12528474, 0.13063063, 0.09445585, 0.07593123, 0.17889908,\n",
       "       0.0933908 , 0.0801105 , 0.0255164 ])"
      ]
     },
     "execution_count": 32,
     "metadata": {},
     "output_type": "execute_result"
    }
   ],
   "source": [
    "# This is the score that determines if a given text is objective or subjective. Should be between 0 to 1\n",
    "subjectivity_score=(p+n)/((w_array)+0.000001)\n",
    "subjectivity_score"
   ]
  },
  {
   "cell_type": "code",
   "execution_count": 33,
   "metadata": {
    "colab": {
     "base_uri": "https://localhost:8080/"
    },
    "executionInfo": {
     "elapsed": 5,
     "status": "ok",
     "timestamp": 1702377285565,
     "user": {
      "displayName": "hari prasad",
      "userId": "12443985723574392235"
     },
     "user_tz": -330
    },
    "id": "GWrsAGYOqAQu",
    "outputId": "506dd7fd-3896-4e9b-bd28-b8b45cfec114"
   },
   "outputs": [
    {
     "data": {
      "text/plain": [
       "0.025516403386685052"
      ]
     },
     "execution_count": 33,
     "metadata": {},
     "output_type": "execute_result"
    }
   ],
   "source": [
    "subjectivity_score.min()"
   ]
  },
  {
   "cell_type": "code",
   "execution_count": 34,
   "metadata": {
    "colab": {
     "base_uri": "https://localhost:8080/"
    },
    "executionInfo": {
     "elapsed": 5,
     "status": "ok",
     "timestamp": 1702377286982,
     "user": {
      "displayName": "hari prasad",
      "userId": "12443985723574392235"
     },
     "user_tz": -330
    },
    "id": "Nb7TPMxQqEfn",
    "outputId": "802a0a5f-4e24-40d5-d1f0-71eea4fb13ca"
   },
   "outputs": [
    {
     "data": {
      "text/plain": [
       "0.24337349338946146"
      ]
     },
     "execution_count": 34,
     "metadata": {},
     "output_type": "execute_result"
    }
   ],
   "source": [
    "subjectivity_score.max()"
   ]
  },
  {
   "cell_type": "code",
   "execution_count": 35,
   "metadata": {
    "colab": {
     "base_uri": "https://localhost:8080/"
    },
    "executionInfo": {
     "elapsed": 3,
     "status": "ok",
     "timestamp": 1702377288591,
     "user": {
      "displayName": "hari prasad",
      "userId": "12443985723574392235"
     },
     "user_tz": -330
    },
    "id": "gvTfvrwbqHdY",
    "outputId": "86707101-9976-4ce7-f035-d642edda951a"
   },
   "outputs": [
    {
     "data": {
      "text/plain": [
       "array([11.41666667, 10.04      , 85.625     ,  5.2962963 ,  9.8125    ,\n",
       "       10.82142857,  9.43478261, 12.72727273, 17.        ,  9.06557377,\n",
       "       15.90909091, 15.17857143, 11.68518519, 10.92857143,  7.3       ,\n",
       "        8.81818182,  9.32098765,  9.05714286,  8.24137931,  8.79816514,\n",
       "        5.90909091,  6.81818182, 12.        ,  8.78947368, 14.77777778,\n",
       "        7.765625  , 14.40909091,  8.44444444,  8.22222222, 11.63043478,\n",
       "       11.65217391, 12.59259259, 11.03571429, 16.09090909,  7.9       ,\n",
       "        5.68067227, 10.81081081, 12.5       , 11.67272727, 13.81034483,\n",
       "       11.65217391, 11.03636364, 11.4625    ,  9.09677419, 10.89041096,\n",
       "       10.4556962 , 12.55555556,  6.68421053,  7.14102564, 11.72972973,\n",
       "       10.12280702, 10.7704918 , 11.56603774, 12.5       ,  7.27947598,\n",
       "        8.81012658, 10.38333333, 13.89473684,  6.38461538,  5.12345679,\n",
       "        8.58947368,  7.28571429, 13.02777778,  8.48913043,  9.72619048,\n",
       "       12.80434783,  5.03278689,  7.7125    , 11.61904762,  6.76712329,\n",
       "       16.37142857,  9.27419355,  8.10714286,  7.66666667, 11.375     ,\n",
       "       10.06521739,  9.19047619, 12.10416667,  7.24444444,  9.02941176,\n",
       "        8.34210526,  4.89873418,  9.87323944, 11.25      , 13.36206897,\n",
       "        7.32911392, 11.1875    ,  9.        , 10.38333333,  7.64      ,\n",
       "        8.44230769,  8.88      ,  7.49230769,  8.725     ,  5.73684211,\n",
       "       10.54545455,  9.52631579,  9.14444444])"
      ]
     },
     "execution_count": 35,
     "metadata": {},
     "output_type": "execute_result"
    }
   ],
   "source": [
    "avg_sent_len=w_array/s_array\n",
    "avg_sent_len"
   ]
  },
  {
   "cell_type": "code",
   "execution_count": 36,
   "metadata": {
    "executionInfo": {
     "elapsed": 685,
     "status": "ok",
     "timestamp": 1702377294215,
     "user": {
      "displayName": "hari prasad",
      "userId": "12443985723574392235"
     },
     "user_tz": -330
    },
    "id": "3MsQqGssz80v"
   },
   "outputs": [],
   "source": [
    "nlp=spacy.load('en_core_web_sm')\n",
    "nlp.add_pipe('syllables',after='tagger')\n",
    "pipes=nlp.pipe_names\n",
    "assert pipes==['tok2vec', 'tagger','syllables', 'parser', 'attribute_ruler', 'lemmatizer', 'ner']"
   ]
  },
  {
   "cell_type": "code",
   "execution_count": 37,
   "metadata": {
    "executionInfo": {
     "elapsed": 356,
     "status": "ok",
     "timestamp": 1702377307417,
     "user": {
      "displayName": "hari prasad",
      "userId": "12443985723574392235"
     },
     "user_tz": -330
    },
    "id": "8S5L8OBa6UDi"
   },
   "outputs": [],
   "source": [
    "#Function to calculate complex words based on more than 2 syllables\n",
    "def calculate_complex(token_list):\n",
    "  complex_words=[]\n",
    "  for art in token_list:\n",
    "    count=0\n",
    "    for w in art:\n",
    "      x=nlp(w)\n",
    "      sy=[i._.syllables_count for i in x]\n",
    "      sy_c=sum([i for i in sy if i is not None])\n",
    "      if sy_c>2:\n",
    "        count+=1\n",
    "    complex_words.append(count)\n",
    "  return complex_words"
   ]
  },
  {
   "cell_type": "code",
   "execution_count": 38,
   "metadata": {
    "colab": {
     "base_uri": "https://localhost:8080/"
    },
    "executionInfo": {
     "elapsed": 298100,
     "status": "ok",
     "timestamp": 1702377608337,
     "user": {
      "displayName": "hari prasad",
      "userId": "12443985723574392235"
     },
     "user_tz": -330
    },
    "id": "Audfv8a27Haq",
    "outputId": "01012c72-80c6-439a-8c6c-7e7d185b21e4"
   },
   "outputs": [
    {
     "data": {
      "text/plain": [
       "98"
      ]
     },
     "execution_count": 38,
     "metadata": {},
     "output_type": "execute_result"
    }
   ],
   "source": [
    "complex_words=calculate_complex(token_list)\n",
    "len(complex_words)"
   ]
  },
  {
   "cell_type": "code",
   "execution_count": 39,
   "metadata": {
    "colab": {
     "base_uri": "https://localhost:8080/"
    },
    "executionInfo": {
     "elapsed": 561,
     "status": "ok",
     "timestamp": 1702377673731,
     "user": {
      "displayName": "hari prasad",
      "userId": "12443985723574392235"
     },
     "user_tz": -330
    },
    "id": "WsOEdm5o-1JP",
    "outputId": "06251ad7-a0a9-4aec-b480-e7f901a6f7dc"
   },
   "outputs": [
    {
     "data": {
      "text/plain": [
       "array([0.4270073 , 0.41434263, 0.32116788, 0.31468531, 0.44585987,\n",
       "       0.49339934, 0.3671275 , 0.40714286, 0.35784314, 0.32730561,\n",
       "       0.29714286, 0.35058824, 0.29318542, 0.31633987, 0.24657534,\n",
       "       0.35640648, 0.29403974, 0.2555205 , 0.29079498, 0.28675704,\n",
       "       0.27692308, 0.38266667, 0.38596491, 0.38323353, 0.34022556,\n",
       "       0.25754527, 0.39432177, 0.21929825, 0.27027027, 0.38878505,\n",
       "       0.28731343, 0.4254902 , 0.34951456, 0.35141243, 0.35443038,\n",
       "       0.3964497 , 0.325     , 0.35777778, 0.31308411, 0.34956305,\n",
       "       0.25186567, 0.37891269, 0.33587786, 0.34219858, 0.41761006,\n",
       "       0.28571429, 0.23539823, 0.32440945, 0.31059246, 0.24654378,\n",
       "       0.39861352, 0.33333333, 0.30179445, 0.37263158, 0.45770846,\n",
       "       0.43534483, 0.33065811, 0.32954545, 0.37951807, 0.2746988 ,\n",
       "       0.39583333, 0.25490196, 0.49040512, 0.32138284, 0.38433293,\n",
       "       0.49405772, 0.26710098, 0.27876823, 0.38114754, 0.31376518,\n",
       "       0.30890052, 0.31652174, 0.37444934, 0.35968379, 0.23626374,\n",
       "       0.28725702, 0.33160622, 0.48020654, 0.30981595, 0.25732899,\n",
       "       0.30914826, 0.27390181, 0.35520685, 0.30444444, 0.47483871,\n",
       "       0.31606218, 0.38361266, 0.44166667, 0.33065811, 0.32984293,\n",
       "       0.32801822, 0.32432432, 0.32032854, 0.36103152, 0.24311927,\n",
       "       0.28304598, 0.22099448, 0.17557716])"
      ]
     },
     "execution_count": 39,
     "metadata": {},
     "output_type": "execute_result"
    }
   ],
   "source": [
    "c_array=np.array(complex_words)\n",
    "per_complex_words=c_array/w_array\n",
    "per_complex_words"
   ]
  },
  {
   "cell_type": "code",
   "execution_count": 40,
   "metadata": {
    "colab": {
     "base_uri": "https://localhost:8080/"
    },
    "executionInfo": {
     "elapsed": 3,
     "status": "ok",
     "timestamp": 1702377675412,
     "user": {
      "displayName": "hari prasad",
      "userId": "12443985723574392235"
     },
     "user_tz": -330
    },
    "id": "K0IdkvJl_CS2",
    "outputId": "88442cd9-7822-4248-ee80-40de8761eae0"
   },
   "outputs": [
    {
     "data": {
      "text/plain": [
       "array([ 4.73746959,  4.18173705, 34.37846715,  2.24439264,  4.10334395,\n",
       "        4.52593116,  3.92076404,  5.25376623,  6.94313725,  3.75715175,\n",
       "        6.48249351,  6.21166387,  4.79134824,  4.49796452,  3.01863014,\n",
       "        3.66983532,  3.84601096,  3.72506534,  3.41286972,  3.63396887,\n",
       "        2.47440559,  2.88033939,  4.95438596,  3.66908289,  6.04720134,\n",
       "        3.20926811,  5.92136507,  3.46549708,  3.396997  ,  4.80768793,\n",
       "        4.77579494,  5.20723312,  4.55409154,  6.57692861,  3.30177215,\n",
       "        2.43084879,  4.45432432,  5.14311111,  4.79432455,  5.66396315,\n",
       "        4.76161583,  4.56611053,  4.71935115,  3.77558911,  4.52320841,\n",
       "        4.2965642 ,  5.11638151,  2.80344799,  2.98064724,  4.7905094 ,\n",
       "        4.20856821,  4.44153005,  4.74713288,  5.14905263,  3.09487378,\n",
       "        3.69818856,  4.28559658,  5.68971292,  2.70565338,  2.15926223,\n",
       "        3.59412281,  3.0162465 ,  5.40727316,  3.52420531,  4.04420936,\n",
       "        5.31936222,  2.11995514,  3.19650729,  4.80007806,  2.83235539,\n",
       "        6.67213164,  3.83628612,  3.39263688,  3.21054018,  4.64450549,\n",
       "        4.14098976,  3.80883296,  5.03374928,  3.02170416,  3.7146963 ,\n",
       "        3.46050141,  2.06905439,  4.09137851,  4.62177778,  5.53476307,\n",
       "        3.05807044,  4.62844507,  3.77666667,  4.28559658,  3.18793717,\n",
       "        3.50813037,  3.68172973,  3.12505449,  3.63441261,  2.39198455,\n",
       "        4.33140021,  3.89892411,  3.72800864])"
      ]
     },
     "execution_count": 40,
     "metadata": {},
     "output_type": "execute_result"
    }
   ],
   "source": [
    "fog_index=0.4*(avg_sent_len+per_complex_words)\n",
    "fog_index"
   ]
  },
  {
   "cell_type": "code",
   "execution_count": 41,
   "metadata": {
    "colab": {
     "base_uri": "https://localhost:8080/"
    },
    "executionInfo": {
     "elapsed": 4,
     "status": "ok",
     "timestamp": 1702377678373,
     "user": {
      "displayName": "hari prasad",
      "userId": "12443985723574392235"
     },
     "user_tz": -330
    },
    "id": "aKOsQXkh_sts",
    "outputId": "9d853c50-963f-4213-de92-3ebe2be5883b"
   },
   "outputs": [
    {
     "data": {
      "text/plain": [
       "9.552641232575201"
      ]
     },
     "execution_count": 41,
     "metadata": {},
     "output_type": "execute_result"
    }
   ],
   "source": [
    "avg_words_per_sentence=total_words/sum(sent_count)\n",
    "avg_words_per_sentence"
   ]
  },
  {
   "cell_type": "code",
   "execution_count": 42,
   "metadata": {
    "executionInfo": {
     "elapsed": 603,
     "status": "ok",
     "timestamp": 1702377685289,
     "user": {
      "displayName": "hari prasad",
      "userId": "12443985723574392235"
     },
     "user_tz": -330
    },
    "id": "OyL7XWHGAPAD"
   },
   "outputs": [],
   "source": [
    "char_count=[sum([len(w) for w in art]) for art in token_list]"
   ]
  },
  {
   "cell_type": "code",
   "execution_count": 43,
   "metadata": {
    "executionInfo": {
     "elapsed": 2,
     "status": "ok",
     "timestamp": 1702377686953,
     "user": {
      "displayName": "hari prasad",
      "userId": "12443985723574392235"
     },
     "user_tz": -330
    },
    "id": "PRtqI-30Bu6t"
   },
   "outputs": [],
   "source": [
    "char_array=np.array(char_count)\n",
    "avg_word_len=char_array/w_array"
   ]
  },
  {
   "cell_type": "code",
   "execution_count": 44,
   "metadata": {
    "colab": {
     "base_uri": "https://localhost:8080/"
    },
    "executionInfo": {
     "elapsed": 4,
     "status": "ok",
     "timestamp": 1702377688515,
     "user": {
      "displayName": "hari prasad",
      "userId": "12443985723574392235"
     },
     "user_tz": -330
    },
    "id": "bNhCf1VcB4rG",
    "outputId": "b1ddabf4-d75d-482a-e525-5aea4045d6c8"
   },
   "outputs": [
    {
     "data": {
      "text/plain": [
       "array([8.22262774, 7.75896414, 7.17080292, 7.92307692, 7.34394904,\n",
       "       8.41749175, 7.35791091, 7.52142857, 7.68137255, 7.25316456,\n",
       "       7.38571429, 7.41176471, 7.00792393, 7.15555556, 6.67123288,\n",
       "       7.33873343, 7.2410596 , 6.83911672, 6.93933054, 7.0552659 ,\n",
       "       6.78153846, 7.388     , 7.34210526, 8.00598802, 7.56015038,\n",
       "       6.77062374, 7.56782334, 6.49561404, 7.05405405, 7.81869159,\n",
       "       6.66231343, 8.22647059, 7.16828479, 7.2440678 , 7.69620253,\n",
       "       7.49852071, 6.8425    , 7.34222222, 7.16666667, 7.38202247,\n",
       "       6.47761194, 7.86655684, 7.2606325 , 7.62234043, 7.78238994,\n",
       "       7.8874092 , 6.66017699, 7.07086614, 7.19210054, 6.61290323,\n",
       "       7.92894281, 7.48097412, 7.02936378, 7.72315789, 8.08818236,\n",
       "       7.76724138, 7.5858748 , 7.47348485, 7.54819277, 7.06987952,\n",
       "       7.74142157, 6.70588235, 8.32409382, 7.20486556, 7.72582619,\n",
       "       8.21052632, 7.2019544 , 6.86547812, 7.92213115, 7.08097166,\n",
       "       7.4904014 , 7.23478261, 7.2907489 , 7.49011858, 6.73076923,\n",
       "       7.06911447, 7.31088083, 8.2616179 , 7.16257669, 6.85667752,\n",
       "       7.28391167, 7.02842377, 7.61198288, 7.14222222, 8.06580645,\n",
       "       7.00518135, 7.47299814, 7.94166667, 7.5858748 , 7.47120419,\n",
       "       7.17767654, 6.96621622, 7.08213552, 7.26217765, 6.5       ,\n",
       "       6.8591954 , 6.82044199, 6.48784933])"
      ]
     },
     "execution_count": 44,
     "metadata": {},
     "output_type": "execute_result"
    }
   ],
   "source": [
    "avg_word_len"
   ]
  },
  {
   "cell_type": "code",
   "execution_count": 45,
   "metadata": {
    "executionInfo": {
     "elapsed": 360,
     "status": "ok",
     "timestamp": 1702377691681,
     "user": {
      "displayName": "hari prasad",
      "userId": "12443985723574392235"
     },
     "user_tz": -330
    },
    "id": "-5v7gDbOB67u"
   },
   "outputs": [],
   "source": [
    "#calculates number of personal pronouns in each article\n",
    "def calculate_personal_pronouns(text_list):\n",
    "  personal_pronouns = [\"I\", \"you\", \"he\", \"she\", \"it\", \"we\", \"they\"]\n",
    "  pp_count=[]\n",
    "  for art in text_list:\n",
    "    count=0\n",
    "    for i in personal_pronouns:\n",
    "      if f' {i} ' in art:\n",
    "        c=text_list[0].count(f' {i} ')\n",
    "        count+=c\n",
    "    pp_count.append(count)\n",
    "  return pp_count"
   ]
  },
  {
   "cell_type": "code",
   "execution_count": 46,
   "metadata": {
    "colab": {
     "base_uri": "https://localhost:8080/"
    },
    "executionInfo": {
     "elapsed": 2,
     "status": "ok",
     "timestamp": 1702377692962,
     "user": {
      "displayName": "hari prasad",
      "userId": "12443985723574392235"
     },
     "user_tz": -330
    },
    "id": "km18pMQYDeXK",
    "outputId": "bb4d5617-fe49-4dba-c0f9-f80a1122f86a"
   },
   "outputs": [
    {
     "data": {
      "text/plain": [
       "98"
      ]
     },
     "execution_count": 46,
     "metadata": {},
     "output_type": "execute_result"
    }
   ],
   "source": [
    "pp_count=calculate_personal_pronouns(text_list)\n",
    "len(pp_count)"
   ]
  },
  {
   "cell_type": "code",
   "execution_count": 47,
   "metadata": {
    "colab": {
     "base_uri": "https://localhost:8080/"
    },
    "executionInfo": {
     "elapsed": 3,
     "status": "ok",
     "timestamp": 1702377695489,
     "user": {
      "displayName": "hari prasad",
      "userId": "12443985723574392235"
     },
     "user_tz": -330
    },
    "id": "Sdrqs6cMEHPY",
    "outputId": "5593b6e8-b7b4-435f-8908-143c34aba30c"
   },
   "outputs": [
    {
     "data": {
      "text/plain": [
       "[13, 13, 13, 10, 13]"
      ]
     },
     "execution_count": 47,
     "metadata": {},
     "output_type": "execute_result"
    }
   ],
   "source": [
    "pp_count[:5]"
   ]
  },
  {
   "cell_type": "code",
   "execution_count": 48,
   "metadata": {
    "executionInfo": {
     "elapsed": 3,
     "status": "ok",
     "timestamp": 1702377696864,
     "user": {
      "displayName": "hari prasad",
      "userId": "12443985723574392235"
     },
     "user_tz": -330
    },
    "id": "nlQbjPnuFrMU"
   },
   "outputs": [],
   "source": [
    "def syllable_count_per_word(word_list):\n",
    "  vowel=list('aeiou')\n",
    "  total_text=[]\n",
    "  for art in word_list:\n",
    "    each_art=[]\n",
    "    for w in art:\n",
    "      if not w.endswith('es') or not w.endswith('ed'):\n",
    "        count=0\n",
    "        for v in vowel:\n",
    "          if v in w:\n",
    "            count+=1\n",
    "      each_art.append(count)\n",
    "    total_text.append(each_art)\n",
    "  return total_text"
   ]
  },
  {
   "cell_type": "code",
   "execution_count": 49,
   "metadata": {
    "executionInfo": {
     "elapsed": 3,
     "status": "ok",
     "timestamp": 1702377698398,
     "user": {
      "displayName": "hari prasad",
      "userId": "12443985723574392235"
     },
     "user_tz": -330
    },
    "id": "Dpv5UWDAGDWD"
   },
   "outputs": [],
   "source": [
    "syl_count=syllable_count_per_word(token_list)"
   ]
  },
  {
   "cell_type": "code",
   "execution_count": 50,
   "metadata": {
    "colab": {
     "base_uri": "https://localhost:8080/"
    },
    "executionInfo": {
     "elapsed": 3,
     "status": "ok",
     "timestamp": 1702377700493,
     "user": {
      "displayName": "hari prasad",
      "userId": "12443985723574392235"
     },
     "user_tz": -330
    },
    "id": "UjDrEOsCJy9w",
    "outputId": "c6ec0b99-972c-4e02-e5e9-48a9a8c96e5e"
   },
   "outputs": [
    {
     "data": {
      "text/plain": [
       "array([2.41240876, 2.37450199, 2.11678832, 2.25874126, 2.26751592,\n",
       "       2.41749175, 2.17204301, 2.21428571, 2.10784314, 2.1681736 ,\n",
       "       2.12571429, 2.20941176, 2.07131537, 2.20522876, 2.01369863,\n",
       "       2.17967599, 2.15496689, 2.14195584, 2.09414226, 2.14911366,\n",
       "       2.12615385, 2.116     , 2.28070175, 2.33832335, 2.14473684,\n",
       "       2.00804829, 2.24290221, 1.98684211, 2.24324324, 2.26915888,\n",
       "       1.98134328, 2.40882353, 2.13592233, 2.06327684, 2.3164557 ,\n",
       "       2.25887574, 2.1525    , 2.18444444, 2.17912773, 2.28838951,\n",
       "       1.9738806 , 2.21746293, 2.15158124, 2.23404255, 2.3081761 ,\n",
       "       2.26029056, 2.05132743, 2.12125984, 2.1508079 , 1.93317972,\n",
       "       2.3830156 , 2.18721461, 2.02610114, 2.27789474, 2.26694661,\n",
       "       2.24568966, 2.24879615, 2.23863636, 2.29518072, 2.19036145,\n",
       "       2.39215686, 2.07843137, 2.41151386, 2.21766965, 2.34149327,\n",
       "       2.27504244, 2.24104235, 2.04538088, 2.39754098, 2.13157895,\n",
       "       2.18673647, 2.1826087 , 2.29735683, 2.11462451, 2.13186813,\n",
       "       2.08207343, 2.11787565, 2.26850258, 2.22699387, 2.03583062,\n",
       "       2.04731861, 2.18604651, 2.26248217, 2.07111111, 2.34709677,\n",
       "       2.06044905, 2.18435754, 2.32777778, 2.24879615, 2.21989529,\n",
       "       2.10933941, 2.04279279, 2.0862423 , 2.09885387, 1.89449541,\n",
       "       2.12212644, 2.10773481, 1.81713244])"
      ]
     },
     "execution_count": 50,
     "metadata": {},
     "output_type": "execute_result"
    }
   ],
   "source": [
    "mean_syl_count=[sum(art)/len(art) for art in syl_count]\n",
    "mean_syl_array=np.array(mean_syl_count)\n",
    "mean_syl_array"
   ]
  },
  {
   "cell_type": "code",
   "execution_count": 51,
   "metadata": {
    "executionInfo": {
     "elapsed": 3,
     "status": "ok",
     "timestamp": 1702377704159,
     "user": {
      "displayName": "hari prasad",
      "userId": "12443985723574392235"
     },
     "user_tz": -330
    },
    "id": "XDTcQMvETZC7"
   },
   "outputs": [],
   "source": [
    "remaining_var=np.vstack((positive_score,negative_score,polarity_score,subjectivity_score,avg_sent_len,per_complex_words,fog_index,avg_sent_len,complex_words,word_count,mean_syl_count,pp_count,avg_word_len)).T"
   ]
  },
  {
   "cell_type": "code",
   "execution_count": 52,
   "metadata": {
    "executionInfo": {
     "elapsed": 5,
     "status": "ok",
     "timestamp": 1702377706036,
     "user": {
      "displayName": "hari prasad",
      "userId": "12443985723574392235"
     },
     "user_tz": -330
    },
    "id": "Qa4Oo53zd34W"
   },
   "outputs": [],
   "source": [
    "remaining_var=np.insert(remaining_var,35,np.zeros(remaining_var.shape[1]),axis=0)\n",
    "remaining_var=np.insert(remaining_var,48,np.zeros(remaining_var.shape[1]),axis=0)"
   ]
  },
  {
   "cell_type": "code",
   "execution_count": 53,
   "metadata": {
    "colab": {
     "base_uri": "https://localhost:8080/"
    },
    "executionInfo": {
     "elapsed": 7,
     "status": "ok",
     "timestamp": 1702377707866,
     "user": {
      "displayName": "hari prasad",
      "userId": "12443985723574392235"
     },
     "user_tz": -330
    },
    "id": "i1Qf_F3afyFg",
    "outputId": "821afb16-eaf7-4062-bea2-312c4295dfc1"
   },
   "outputs": [
    {
     "data": {
      "text/plain": [
       "(100, 13)"
      ]
     },
     "execution_count": 53,
     "metadata": {},
     "output_type": "execute_result"
    }
   ],
   "source": [
    "remaining_var.shape"
   ]
  },
  {
   "cell_type": "code",
   "execution_count": 54,
   "metadata": {
    "colab": {
     "base_uri": "https://localhost:8080/",
     "height": 328
    },
    "executionInfo": {
     "elapsed": 771,
     "status": "ok",
     "timestamp": 1702377710914,
     "user": {
      "displayName": "hari prasad",
      "userId": "12443985723574392235"
     },
     "user_tz": -330
    },
    "id": "JcSZ1K3Ugtx-",
    "outputId": "e903707d-05af-477a-8318-03a24fcea29c"
   },
   "outputs": [
    {
     "data": {
      "text/html": [
       "\n",
       "  <div id=\"df-71140855-347a-45c7-9bbe-c8d8ec2adf80\" class=\"colab-df-container\">\n",
       "    <div>\n",
       "<style scoped>\n",
       "    .dataframe tbody tr th:only-of-type {\n",
       "        vertical-align: middle;\n",
       "    }\n",
       "\n",
       "    .dataframe tbody tr th {\n",
       "        vertical-align: top;\n",
       "    }\n",
       "\n",
       "    .dataframe thead th {\n",
       "        text-align: right;\n",
       "    }\n",
       "</style>\n",
       "<table border=\"1\" class=\"dataframe\">\n",
       "  <thead>\n",
       "    <tr style=\"text-align: right;\">\n",
       "      <th></th>\n",
       "      <th>URL_ID</th>\n",
       "      <th>URL</th>\n",
       "      <th>POSITIVE SCORE</th>\n",
       "      <th>NEGATIVE SCORE</th>\n",
       "      <th>POLARITY SCORE</th>\n",
       "      <th>SUBJECTIVITY SCORE</th>\n",
       "      <th>AVG SENTENCE LENGTH</th>\n",
       "      <th>PERCENTAGE OF COMPLEX WORDS</th>\n",
       "      <th>FOG INDEX</th>\n",
       "      <th>AVG NUMBER OF WORDS PER SENTENCE</th>\n",
       "      <th>COMPLEX WORD COUNT</th>\n",
       "      <th>WORD COUNT</th>\n",
       "      <th>SYLLABLE PER WORD</th>\n",
       "      <th>PERSONAL PRONOUNS</th>\n",
       "      <th>AVG WORD LENGTH</th>\n",
       "    </tr>\n",
       "  </thead>\n",
       "  <tbody>\n",
       "    <tr>\n",
       "      <th>0</th>\n",
       "      <td>blackassign0001</td>\n",
       "      <td>https://insights.blackcoffer.com/rising-it-cit...</td>\n",
       "      <td>NaN</td>\n",
       "      <td>NaN</td>\n",
       "      <td>NaN</td>\n",
       "      <td>NaN</td>\n",
       "      <td>NaN</td>\n",
       "      <td>NaN</td>\n",
       "      <td>NaN</td>\n",
       "      <td>NaN</td>\n",
       "      <td>NaN</td>\n",
       "      <td>NaN</td>\n",
       "      <td>NaN</td>\n",
       "      <td>NaN</td>\n",
       "      <td>NaN</td>\n",
       "    </tr>\n",
       "    <tr>\n",
       "      <th>1</th>\n",
       "      <td>blackassign0002</td>\n",
       "      <td>https://insights.blackcoffer.com/rising-it-cit...</td>\n",
       "      <td>NaN</td>\n",
       "      <td>NaN</td>\n",
       "      <td>NaN</td>\n",
       "      <td>NaN</td>\n",
       "      <td>NaN</td>\n",
       "      <td>NaN</td>\n",
       "      <td>NaN</td>\n",
       "      <td>NaN</td>\n",
       "      <td>NaN</td>\n",
       "      <td>NaN</td>\n",
       "      <td>NaN</td>\n",
       "      <td>NaN</td>\n",
       "      <td>NaN</td>\n",
       "    </tr>\n",
       "    <tr>\n",
       "      <th>2</th>\n",
       "      <td>blackassign0003</td>\n",
       "      <td>https://insights.blackcoffer.com/internet-dema...</td>\n",
       "      <td>NaN</td>\n",
       "      <td>NaN</td>\n",
       "      <td>NaN</td>\n",
       "      <td>NaN</td>\n",
       "      <td>NaN</td>\n",
       "      <td>NaN</td>\n",
       "      <td>NaN</td>\n",
       "      <td>NaN</td>\n",
       "      <td>NaN</td>\n",
       "      <td>NaN</td>\n",
       "      <td>NaN</td>\n",
       "      <td>NaN</td>\n",
       "      <td>NaN</td>\n",
       "    </tr>\n",
       "    <tr>\n",
       "      <th>3</th>\n",
       "      <td>blackassign0004</td>\n",
       "      <td>https://insights.blackcoffer.com/rise-of-cyber...</td>\n",
       "      <td>NaN</td>\n",
       "      <td>NaN</td>\n",
       "      <td>NaN</td>\n",
       "      <td>NaN</td>\n",
       "      <td>NaN</td>\n",
       "      <td>NaN</td>\n",
       "      <td>NaN</td>\n",
       "      <td>NaN</td>\n",
       "      <td>NaN</td>\n",
       "      <td>NaN</td>\n",
       "      <td>NaN</td>\n",
       "      <td>NaN</td>\n",
       "      <td>NaN</td>\n",
       "    </tr>\n",
       "    <tr>\n",
       "      <th>4</th>\n",
       "      <td>blackassign0005</td>\n",
       "      <td>https://insights.blackcoffer.com/ott-platform-...</td>\n",
       "      <td>NaN</td>\n",
       "      <td>NaN</td>\n",
       "      <td>NaN</td>\n",
       "      <td>NaN</td>\n",
       "      <td>NaN</td>\n",
       "      <td>NaN</td>\n",
       "      <td>NaN</td>\n",
       "      <td>NaN</td>\n",
       "      <td>NaN</td>\n",
       "      <td>NaN</td>\n",
       "      <td>NaN</td>\n",
       "      <td>NaN</td>\n",
       "      <td>NaN</td>\n",
       "    </tr>\n",
       "  </tbody>\n",
       "</table>\n",
       "</div>\n",
       "    <div class=\"colab-df-buttons\">\n",
       "\n",
       "  <div class=\"colab-df-container\">\n",
       "    <button class=\"colab-df-convert\" onclick=\"convertToInteractive('df-71140855-347a-45c7-9bbe-c8d8ec2adf80')\"\n",
       "            title=\"Convert this dataframe to an interactive table.\"\n",
       "            style=\"display:none;\">\n",
       "\n",
       "  <svg xmlns=\"http://www.w3.org/2000/svg\" height=\"24px\" viewBox=\"0 -960 960 960\">\n",
       "    <path d=\"M120-120v-720h720v720H120Zm60-500h600v-160H180v160Zm220 220h160v-160H400v160Zm0 220h160v-160H400v160ZM180-400h160v-160H180v160Zm440 0h160v-160H620v160ZM180-180h160v-160H180v160Zm440 0h160v-160H620v160Z\"/>\n",
       "  </svg>\n",
       "    </button>\n",
       "\n",
       "  <style>\n",
       "    .colab-df-container {\n",
       "      display:flex;\n",
       "      gap: 12px;\n",
       "    }\n",
       "\n",
       "    .colab-df-convert {\n",
       "      background-color: #E8F0FE;\n",
       "      border: none;\n",
       "      border-radius: 50%;\n",
       "      cursor: pointer;\n",
       "      display: none;\n",
       "      fill: #1967D2;\n",
       "      height: 32px;\n",
       "      padding: 0 0 0 0;\n",
       "      width: 32px;\n",
       "    }\n",
       "\n",
       "    .colab-df-convert:hover {\n",
       "      background-color: #E2EBFA;\n",
       "      box-shadow: 0px 1px 2px rgba(60, 64, 67, 0.3), 0px 1px 3px 1px rgba(60, 64, 67, 0.15);\n",
       "      fill: #174EA6;\n",
       "    }\n",
       "\n",
       "    .colab-df-buttons div {\n",
       "      margin-bottom: 4px;\n",
       "    }\n",
       "\n",
       "    [theme=dark] .colab-df-convert {\n",
       "      background-color: #3B4455;\n",
       "      fill: #D2E3FC;\n",
       "    }\n",
       "\n",
       "    [theme=dark] .colab-df-convert:hover {\n",
       "      background-color: #434B5C;\n",
       "      box-shadow: 0px 1px 3px 1px rgba(0, 0, 0, 0.15);\n",
       "      filter: drop-shadow(0px 1px 2px rgba(0, 0, 0, 0.3));\n",
       "      fill: #FFFFFF;\n",
       "    }\n",
       "  </style>\n",
       "\n",
       "    <script>\n",
       "      const buttonEl =\n",
       "        document.querySelector('#df-71140855-347a-45c7-9bbe-c8d8ec2adf80 button.colab-df-convert');\n",
       "      buttonEl.style.display =\n",
       "        google.colab.kernel.accessAllowed ? 'block' : 'none';\n",
       "\n",
       "      async function convertToInteractive(key) {\n",
       "        const element = document.querySelector('#df-71140855-347a-45c7-9bbe-c8d8ec2adf80');\n",
       "        const dataTable =\n",
       "          await google.colab.kernel.invokeFunction('convertToInteractive',\n",
       "                                                    [key], {});\n",
       "        if (!dataTable) return;\n",
       "\n",
       "        const docLinkHtml = 'Like what you see? Visit the ' +\n",
       "          '<a target=\"_blank\" href=https://colab.research.google.com/notebooks/data_table.ipynb>data table notebook</a>'\n",
       "          + ' to learn more about interactive tables.';\n",
       "        element.innerHTML = '';\n",
       "        dataTable['output_type'] = 'display_data';\n",
       "        await google.colab.output.renderOutput(dataTable, element);\n",
       "        const docLink = document.createElement('div');\n",
       "        docLink.innerHTML = docLinkHtml;\n",
       "        element.appendChild(docLink);\n",
       "      }\n",
       "    </script>\n",
       "  </div>\n",
       "\n",
       "\n",
       "<div id=\"df-d87a87e4-0342-45ec-897b-563fe75e59a8\">\n",
       "  <button class=\"colab-df-quickchart\" onclick=\"quickchart('df-d87a87e4-0342-45ec-897b-563fe75e59a8')\"\n",
       "            title=\"Suggest charts\"\n",
       "            style=\"display:none;\">\n",
       "\n",
       "<svg xmlns=\"http://www.w3.org/2000/svg\" height=\"24px\"viewBox=\"0 0 24 24\"\n",
       "     width=\"24px\">\n",
       "    <g>\n",
       "        <path d=\"M19 3H5c-1.1 0-2 .9-2 2v14c0 1.1.9 2 2 2h14c1.1 0 2-.9 2-2V5c0-1.1-.9-2-2-2zM9 17H7v-7h2v7zm4 0h-2V7h2v10zm4 0h-2v-4h2v4z\"/>\n",
       "    </g>\n",
       "</svg>\n",
       "  </button>\n",
       "\n",
       "<style>\n",
       "  .colab-df-quickchart {\n",
       "      --bg-color: #E8F0FE;\n",
       "      --fill-color: #1967D2;\n",
       "      --hover-bg-color: #E2EBFA;\n",
       "      --hover-fill-color: #174EA6;\n",
       "      --disabled-fill-color: #AAA;\n",
       "      --disabled-bg-color: #DDD;\n",
       "  }\n",
       "\n",
       "  [theme=dark] .colab-df-quickchart {\n",
       "      --bg-color: #3B4455;\n",
       "      --fill-color: #D2E3FC;\n",
       "      --hover-bg-color: #434B5C;\n",
       "      --hover-fill-color: #FFFFFF;\n",
       "      --disabled-bg-color: #3B4455;\n",
       "      --disabled-fill-color: #666;\n",
       "  }\n",
       "\n",
       "  .colab-df-quickchart {\n",
       "    background-color: var(--bg-color);\n",
       "    border: none;\n",
       "    border-radius: 50%;\n",
       "    cursor: pointer;\n",
       "    display: none;\n",
       "    fill: var(--fill-color);\n",
       "    height: 32px;\n",
       "    padding: 0;\n",
       "    width: 32px;\n",
       "  }\n",
       "\n",
       "  .colab-df-quickchart:hover {\n",
       "    background-color: var(--hover-bg-color);\n",
       "    box-shadow: 0 1px 2px rgba(60, 64, 67, 0.3), 0 1px 3px 1px rgba(60, 64, 67, 0.15);\n",
       "    fill: var(--button-hover-fill-color);\n",
       "  }\n",
       "\n",
       "  .colab-df-quickchart-complete:disabled,\n",
       "  .colab-df-quickchart-complete:disabled:hover {\n",
       "    background-color: var(--disabled-bg-color);\n",
       "    fill: var(--disabled-fill-color);\n",
       "    box-shadow: none;\n",
       "  }\n",
       "\n",
       "  .colab-df-spinner {\n",
       "    border: 2px solid var(--fill-color);\n",
       "    border-color: transparent;\n",
       "    border-bottom-color: var(--fill-color);\n",
       "    animation:\n",
       "      spin 1s steps(1) infinite;\n",
       "  }\n",
       "\n",
       "  @keyframes spin {\n",
       "    0% {\n",
       "      border-color: transparent;\n",
       "      border-bottom-color: var(--fill-color);\n",
       "      border-left-color: var(--fill-color);\n",
       "    }\n",
       "    20% {\n",
       "      border-color: transparent;\n",
       "      border-left-color: var(--fill-color);\n",
       "      border-top-color: var(--fill-color);\n",
       "    }\n",
       "    30% {\n",
       "      border-color: transparent;\n",
       "      border-left-color: var(--fill-color);\n",
       "      border-top-color: var(--fill-color);\n",
       "      border-right-color: var(--fill-color);\n",
       "    }\n",
       "    40% {\n",
       "      border-color: transparent;\n",
       "      border-right-color: var(--fill-color);\n",
       "      border-top-color: var(--fill-color);\n",
       "    }\n",
       "    60% {\n",
       "      border-color: transparent;\n",
       "      border-right-color: var(--fill-color);\n",
       "    }\n",
       "    80% {\n",
       "      border-color: transparent;\n",
       "      border-right-color: var(--fill-color);\n",
       "      border-bottom-color: var(--fill-color);\n",
       "    }\n",
       "    90% {\n",
       "      border-color: transparent;\n",
       "      border-bottom-color: var(--fill-color);\n",
       "    }\n",
       "  }\n",
       "</style>\n",
       "\n",
       "  <script>\n",
       "    async function quickchart(key) {\n",
       "      const quickchartButtonEl =\n",
       "        document.querySelector('#' + key + ' button');\n",
       "      quickchartButtonEl.disabled = true;  // To prevent multiple clicks.\n",
       "      quickchartButtonEl.classList.add('colab-df-spinner');\n",
       "      try {\n",
       "        const charts = await google.colab.kernel.invokeFunction(\n",
       "            'suggestCharts', [key], {});\n",
       "      } catch (error) {\n",
       "        console.error('Error during call to suggestCharts:', error);\n",
       "      }\n",
       "      quickchartButtonEl.classList.remove('colab-df-spinner');\n",
       "      quickchartButtonEl.classList.add('colab-df-quickchart-complete');\n",
       "    }\n",
       "    (() => {\n",
       "      let quickchartButtonEl =\n",
       "        document.querySelector('#df-d87a87e4-0342-45ec-897b-563fe75e59a8 button');\n",
       "      quickchartButtonEl.style.display =\n",
       "        google.colab.kernel.accessAllowed ? 'block' : 'none';\n",
       "    })();\n",
       "  </script>\n",
       "</div>\n",
       "    </div>\n",
       "  </div>\n"
      ],
      "text/plain": [
       "            URL_ID                                                URL  \\\n",
       "0  blackassign0001  https://insights.blackcoffer.com/rising-it-cit...   \n",
       "1  blackassign0002  https://insights.blackcoffer.com/rising-it-cit...   \n",
       "2  blackassign0003  https://insights.blackcoffer.com/internet-dema...   \n",
       "3  blackassign0004  https://insights.blackcoffer.com/rise-of-cyber...   \n",
       "4  blackassign0005  https://insights.blackcoffer.com/ott-platform-...   \n",
       "\n",
       "   POSITIVE SCORE  NEGATIVE SCORE  POLARITY SCORE  SUBJECTIVITY SCORE  \\\n",
       "0             NaN             NaN             NaN                 NaN   \n",
       "1             NaN             NaN             NaN                 NaN   \n",
       "2             NaN             NaN             NaN                 NaN   \n",
       "3             NaN             NaN             NaN                 NaN   \n",
       "4             NaN             NaN             NaN                 NaN   \n",
       "\n",
       "   AVG SENTENCE LENGTH  PERCENTAGE OF COMPLEX WORDS  FOG INDEX  \\\n",
       "0                  NaN                          NaN        NaN   \n",
       "1                  NaN                          NaN        NaN   \n",
       "2                  NaN                          NaN        NaN   \n",
       "3                  NaN                          NaN        NaN   \n",
       "4                  NaN                          NaN        NaN   \n",
       "\n",
       "   AVG NUMBER OF WORDS PER SENTENCE  COMPLEX WORD COUNT  WORD COUNT  \\\n",
       "0                               NaN                 NaN         NaN   \n",
       "1                               NaN                 NaN         NaN   \n",
       "2                               NaN                 NaN         NaN   \n",
       "3                               NaN                 NaN         NaN   \n",
       "4                               NaN                 NaN         NaN   \n",
       "\n",
       "   SYLLABLE PER WORD  PERSONAL PRONOUNS  AVG WORD LENGTH  \n",
       "0                NaN                NaN              NaN  \n",
       "1                NaN                NaN              NaN  \n",
       "2                NaN                NaN              NaN  \n",
       "3                NaN                NaN              NaN  \n",
       "4                NaN                NaN              NaN  "
      ]
     },
     "execution_count": 54,
     "metadata": {},
     "output_type": "execute_result"
    }
   ],
   "source": [
    "output=pd.read_excel('/content/Output Data Structure.xlsx')\n",
    "output.head()"
   ]
  },
  {
   "cell_type": "code",
   "execution_count": 55,
   "metadata": {
    "executionInfo": {
     "elapsed": 669,
     "status": "ok",
     "timestamp": 1702377714540,
     "user": {
      "displayName": "hari prasad",
      "userId": "12443985723574392235"
     },
     "user_tz": -330
    },
    "id": "t4yvJ_dRg58s"
   },
   "outputs": [],
   "source": [
    "output.iloc[:,2:]=remaining_var"
   ]
  },
  {
   "cell_type": "code",
   "execution_count": 56,
   "metadata": {
    "colab": {
     "base_uri": "https://localhost:8080/",
     "height": 328
    },
    "executionInfo": {
     "elapsed": 8,
     "status": "ok",
     "timestamp": 1702377716377,
     "user": {
      "displayName": "hari prasad",
      "userId": "12443985723574392235"
     },
     "user_tz": -330
    },
    "id": "BirHdEiwj5WU",
    "outputId": "9b7028db-7e2c-4a38-c932-81d80eca52b3"
   },
   "outputs": [
    {
     "data": {
      "text/html": [
       "\n",
       "  <div id=\"df-d200a0f2-1f9e-4d3c-9e65-a3d1a975d715\" class=\"colab-df-container\">\n",
       "    <div>\n",
       "<style scoped>\n",
       "    .dataframe tbody tr th:only-of-type {\n",
       "        vertical-align: middle;\n",
       "    }\n",
       "\n",
       "    .dataframe tbody tr th {\n",
       "        vertical-align: top;\n",
       "    }\n",
       "\n",
       "    .dataframe thead th {\n",
       "        text-align: right;\n",
       "    }\n",
       "</style>\n",
       "<table border=\"1\" class=\"dataframe\">\n",
       "  <thead>\n",
       "    <tr style=\"text-align: right;\">\n",
       "      <th></th>\n",
       "      <th>URL_ID</th>\n",
       "      <th>URL</th>\n",
       "      <th>POSITIVE SCORE</th>\n",
       "      <th>NEGATIVE SCORE</th>\n",
       "      <th>POLARITY SCORE</th>\n",
       "      <th>SUBJECTIVITY SCORE</th>\n",
       "      <th>AVG SENTENCE LENGTH</th>\n",
       "      <th>PERCENTAGE OF COMPLEX WORDS</th>\n",
       "      <th>FOG INDEX</th>\n",
       "      <th>AVG NUMBER OF WORDS PER SENTENCE</th>\n",
       "      <th>COMPLEX WORD COUNT</th>\n",
       "      <th>WORD COUNT</th>\n",
       "      <th>SYLLABLE PER WORD</th>\n",
       "      <th>PERSONAL PRONOUNS</th>\n",
       "      <th>AVG WORD LENGTH</th>\n",
       "    </tr>\n",
       "  </thead>\n",
       "  <tbody>\n",
       "    <tr>\n",
       "      <th>0</th>\n",
       "      <td>blackassign0001</td>\n",
       "      <td>https://insights.blackcoffer.com/rising-it-cit...</td>\n",
       "      <td>38.0</td>\n",
       "      <td>13.0</td>\n",
       "      <td>0.490196</td>\n",
       "      <td>0.186131</td>\n",
       "      <td>11.416667</td>\n",
       "      <td>0.427007</td>\n",
       "      <td>4.737470</td>\n",
       "      <td>11.416667</td>\n",
       "      <td>117.0</td>\n",
       "      <td>274.0</td>\n",
       "      <td>2.412409</td>\n",
       "      <td>13.0</td>\n",
       "      <td>8.222628</td>\n",
       "    </tr>\n",
       "    <tr>\n",
       "      <th>1</th>\n",
       "      <td>blackassign0002</td>\n",
       "      <td>https://insights.blackcoffer.com/rising-it-cit...</td>\n",
       "      <td>19.0</td>\n",
       "      <td>47.0</td>\n",
       "      <td>-0.424242</td>\n",
       "      <td>0.131474</td>\n",
       "      <td>10.040000</td>\n",
       "      <td>0.414343</td>\n",
       "      <td>4.181737</td>\n",
       "      <td>10.040000</td>\n",
       "      <td>208.0</td>\n",
       "      <td>502.0</td>\n",
       "      <td>2.374502</td>\n",
       "      <td>13.0</td>\n",
       "      <td>7.758964</td>\n",
       "    </tr>\n",
       "    <tr>\n",
       "      <th>2</th>\n",
       "      <td>blackassign0003</td>\n",
       "      <td>https://insights.blackcoffer.com/internet-dema...</td>\n",
       "      <td>75.0</td>\n",
       "      <td>39.0</td>\n",
       "      <td>0.315789</td>\n",
       "      <td>0.166423</td>\n",
       "      <td>85.625000</td>\n",
       "      <td>0.321168</td>\n",
       "      <td>34.378467</td>\n",
       "      <td>85.625000</td>\n",
       "      <td>220.0</td>\n",
       "      <td>685.0</td>\n",
       "      <td>2.116788</td>\n",
       "      <td>13.0</td>\n",
       "      <td>7.170803</td>\n",
       "    </tr>\n",
       "    <tr>\n",
       "      <th>3</th>\n",
       "      <td>blackassign0004</td>\n",
       "      <td>https://insights.blackcoffer.com/rise-of-cyber...</td>\n",
       "      <td>14.0</td>\n",
       "      <td>9.0</td>\n",
       "      <td>0.217391</td>\n",
       "      <td>0.160839</td>\n",
       "      <td>5.296296</td>\n",
       "      <td>0.314685</td>\n",
       "      <td>2.244393</td>\n",
       "      <td>5.296296</td>\n",
       "      <td>45.0</td>\n",
       "      <td>143.0</td>\n",
       "      <td>2.258741</td>\n",
       "      <td>10.0</td>\n",
       "      <td>7.923077</td>\n",
       "    </tr>\n",
       "    <tr>\n",
       "      <th>4</th>\n",
       "      <td>blackassign0005</td>\n",
       "      <td>https://insights.blackcoffer.com/ott-platform-...</td>\n",
       "      <td>27.0</td>\n",
       "      <td>6.0</td>\n",
       "      <td>0.636364</td>\n",
       "      <td>0.210191</td>\n",
       "      <td>9.812500</td>\n",
       "      <td>0.445860</td>\n",
       "      <td>4.103344</td>\n",
       "      <td>9.812500</td>\n",
       "      <td>70.0</td>\n",
       "      <td>157.0</td>\n",
       "      <td>2.267516</td>\n",
       "      <td>13.0</td>\n",
       "      <td>7.343949</td>\n",
       "    </tr>\n",
       "  </tbody>\n",
       "</table>\n",
       "</div>\n",
       "    <div class=\"colab-df-buttons\">\n",
       "\n",
       "  <div class=\"colab-df-container\">\n",
       "    <button class=\"colab-df-convert\" onclick=\"convertToInteractive('df-d200a0f2-1f9e-4d3c-9e65-a3d1a975d715')\"\n",
       "            title=\"Convert this dataframe to an interactive table.\"\n",
       "            style=\"display:none;\">\n",
       "\n",
       "  <svg xmlns=\"http://www.w3.org/2000/svg\" height=\"24px\" viewBox=\"0 -960 960 960\">\n",
       "    <path d=\"M120-120v-720h720v720H120Zm60-500h600v-160H180v160Zm220 220h160v-160H400v160Zm0 220h160v-160H400v160ZM180-400h160v-160H180v160Zm440 0h160v-160H620v160ZM180-180h160v-160H180v160Zm440 0h160v-160H620v160Z\"/>\n",
       "  </svg>\n",
       "    </button>\n",
       "\n",
       "  <style>\n",
       "    .colab-df-container {\n",
       "      display:flex;\n",
       "      gap: 12px;\n",
       "    }\n",
       "\n",
       "    .colab-df-convert {\n",
       "      background-color: #E8F0FE;\n",
       "      border: none;\n",
       "      border-radius: 50%;\n",
       "      cursor: pointer;\n",
       "      display: none;\n",
       "      fill: #1967D2;\n",
       "      height: 32px;\n",
       "      padding: 0 0 0 0;\n",
       "      width: 32px;\n",
       "    }\n",
       "\n",
       "    .colab-df-convert:hover {\n",
       "      background-color: #E2EBFA;\n",
       "      box-shadow: 0px 1px 2px rgba(60, 64, 67, 0.3), 0px 1px 3px 1px rgba(60, 64, 67, 0.15);\n",
       "      fill: #174EA6;\n",
       "    }\n",
       "\n",
       "    .colab-df-buttons div {\n",
       "      margin-bottom: 4px;\n",
       "    }\n",
       "\n",
       "    [theme=dark] .colab-df-convert {\n",
       "      background-color: #3B4455;\n",
       "      fill: #D2E3FC;\n",
       "    }\n",
       "\n",
       "    [theme=dark] .colab-df-convert:hover {\n",
       "      background-color: #434B5C;\n",
       "      box-shadow: 0px 1px 3px 1px rgba(0, 0, 0, 0.15);\n",
       "      filter: drop-shadow(0px 1px 2px rgba(0, 0, 0, 0.3));\n",
       "      fill: #FFFFFF;\n",
       "    }\n",
       "  </style>\n",
       "\n",
       "    <script>\n",
       "      const buttonEl =\n",
       "        document.querySelector('#df-d200a0f2-1f9e-4d3c-9e65-a3d1a975d715 button.colab-df-convert');\n",
       "      buttonEl.style.display =\n",
       "        google.colab.kernel.accessAllowed ? 'block' : 'none';\n",
       "\n",
       "      async function convertToInteractive(key) {\n",
       "        const element = document.querySelector('#df-d200a0f2-1f9e-4d3c-9e65-a3d1a975d715');\n",
       "        const dataTable =\n",
       "          await google.colab.kernel.invokeFunction('convertToInteractive',\n",
       "                                                    [key], {});\n",
       "        if (!dataTable) return;\n",
       "\n",
       "        const docLinkHtml = 'Like what you see? Visit the ' +\n",
       "          '<a target=\"_blank\" href=https://colab.research.google.com/notebooks/data_table.ipynb>data table notebook</a>'\n",
       "          + ' to learn more about interactive tables.';\n",
       "        element.innerHTML = '';\n",
       "        dataTable['output_type'] = 'display_data';\n",
       "        await google.colab.output.renderOutput(dataTable, element);\n",
       "        const docLink = document.createElement('div');\n",
       "        docLink.innerHTML = docLinkHtml;\n",
       "        element.appendChild(docLink);\n",
       "      }\n",
       "    </script>\n",
       "  </div>\n",
       "\n",
       "\n",
       "<div id=\"df-317c9ec7-45c9-4f59-b41e-97eb462f0ce8\">\n",
       "  <button class=\"colab-df-quickchart\" onclick=\"quickchart('df-317c9ec7-45c9-4f59-b41e-97eb462f0ce8')\"\n",
       "            title=\"Suggest charts\"\n",
       "            style=\"display:none;\">\n",
       "\n",
       "<svg xmlns=\"http://www.w3.org/2000/svg\" height=\"24px\"viewBox=\"0 0 24 24\"\n",
       "     width=\"24px\">\n",
       "    <g>\n",
       "        <path d=\"M19 3H5c-1.1 0-2 .9-2 2v14c0 1.1.9 2 2 2h14c1.1 0 2-.9 2-2V5c0-1.1-.9-2-2-2zM9 17H7v-7h2v7zm4 0h-2V7h2v10zm4 0h-2v-4h2v4z\"/>\n",
       "    </g>\n",
       "</svg>\n",
       "  </button>\n",
       "\n",
       "<style>\n",
       "  .colab-df-quickchart {\n",
       "      --bg-color: #E8F0FE;\n",
       "      --fill-color: #1967D2;\n",
       "      --hover-bg-color: #E2EBFA;\n",
       "      --hover-fill-color: #174EA6;\n",
       "      --disabled-fill-color: #AAA;\n",
       "      --disabled-bg-color: #DDD;\n",
       "  }\n",
       "\n",
       "  [theme=dark] .colab-df-quickchart {\n",
       "      --bg-color: #3B4455;\n",
       "      --fill-color: #D2E3FC;\n",
       "      --hover-bg-color: #434B5C;\n",
       "      --hover-fill-color: #FFFFFF;\n",
       "      --disabled-bg-color: #3B4455;\n",
       "      --disabled-fill-color: #666;\n",
       "  }\n",
       "\n",
       "  .colab-df-quickchart {\n",
       "    background-color: var(--bg-color);\n",
       "    border: none;\n",
       "    border-radius: 50%;\n",
       "    cursor: pointer;\n",
       "    display: none;\n",
       "    fill: var(--fill-color);\n",
       "    height: 32px;\n",
       "    padding: 0;\n",
       "    width: 32px;\n",
       "  }\n",
       "\n",
       "  .colab-df-quickchart:hover {\n",
       "    background-color: var(--hover-bg-color);\n",
       "    box-shadow: 0 1px 2px rgba(60, 64, 67, 0.3), 0 1px 3px 1px rgba(60, 64, 67, 0.15);\n",
       "    fill: var(--button-hover-fill-color);\n",
       "  }\n",
       "\n",
       "  .colab-df-quickchart-complete:disabled,\n",
       "  .colab-df-quickchart-complete:disabled:hover {\n",
       "    background-color: var(--disabled-bg-color);\n",
       "    fill: var(--disabled-fill-color);\n",
       "    box-shadow: none;\n",
       "  }\n",
       "\n",
       "  .colab-df-spinner {\n",
       "    border: 2px solid var(--fill-color);\n",
       "    border-color: transparent;\n",
       "    border-bottom-color: var(--fill-color);\n",
       "    animation:\n",
       "      spin 1s steps(1) infinite;\n",
       "  }\n",
       "\n",
       "  @keyframes spin {\n",
       "    0% {\n",
       "      border-color: transparent;\n",
       "      border-bottom-color: var(--fill-color);\n",
       "      border-left-color: var(--fill-color);\n",
       "    }\n",
       "    20% {\n",
       "      border-color: transparent;\n",
       "      border-left-color: var(--fill-color);\n",
       "      border-top-color: var(--fill-color);\n",
       "    }\n",
       "    30% {\n",
       "      border-color: transparent;\n",
       "      border-left-color: var(--fill-color);\n",
       "      border-top-color: var(--fill-color);\n",
       "      border-right-color: var(--fill-color);\n",
       "    }\n",
       "    40% {\n",
       "      border-color: transparent;\n",
       "      border-right-color: var(--fill-color);\n",
       "      border-top-color: var(--fill-color);\n",
       "    }\n",
       "    60% {\n",
       "      border-color: transparent;\n",
       "      border-right-color: var(--fill-color);\n",
       "    }\n",
       "    80% {\n",
       "      border-color: transparent;\n",
       "      border-right-color: var(--fill-color);\n",
       "      border-bottom-color: var(--fill-color);\n",
       "    }\n",
       "    90% {\n",
       "      border-color: transparent;\n",
       "      border-bottom-color: var(--fill-color);\n",
       "    }\n",
       "  }\n",
       "</style>\n",
       "\n",
       "  <script>\n",
       "    async function quickchart(key) {\n",
       "      const quickchartButtonEl =\n",
       "        document.querySelector('#' + key + ' button');\n",
       "      quickchartButtonEl.disabled = true;  // To prevent multiple clicks.\n",
       "      quickchartButtonEl.classList.add('colab-df-spinner');\n",
       "      try {\n",
       "        const charts = await google.colab.kernel.invokeFunction(\n",
       "            'suggestCharts', [key], {});\n",
       "      } catch (error) {\n",
       "        console.error('Error during call to suggestCharts:', error);\n",
       "      }\n",
       "      quickchartButtonEl.classList.remove('colab-df-spinner');\n",
       "      quickchartButtonEl.classList.add('colab-df-quickchart-complete');\n",
       "    }\n",
       "    (() => {\n",
       "      let quickchartButtonEl =\n",
       "        document.querySelector('#df-317c9ec7-45c9-4f59-b41e-97eb462f0ce8 button');\n",
       "      quickchartButtonEl.style.display =\n",
       "        google.colab.kernel.accessAllowed ? 'block' : 'none';\n",
       "    })();\n",
       "  </script>\n",
       "</div>\n",
       "    </div>\n",
       "  </div>\n"
      ],
      "text/plain": [
       "            URL_ID                                                URL  \\\n",
       "0  blackassign0001  https://insights.blackcoffer.com/rising-it-cit...   \n",
       "1  blackassign0002  https://insights.blackcoffer.com/rising-it-cit...   \n",
       "2  blackassign0003  https://insights.blackcoffer.com/internet-dema...   \n",
       "3  blackassign0004  https://insights.blackcoffer.com/rise-of-cyber...   \n",
       "4  blackassign0005  https://insights.blackcoffer.com/ott-platform-...   \n",
       "\n",
       "   POSITIVE SCORE  NEGATIVE SCORE  POLARITY SCORE  SUBJECTIVITY SCORE  \\\n",
       "0            38.0            13.0        0.490196            0.186131   \n",
       "1            19.0            47.0       -0.424242            0.131474   \n",
       "2            75.0            39.0        0.315789            0.166423   \n",
       "3            14.0             9.0        0.217391            0.160839   \n",
       "4            27.0             6.0        0.636364            0.210191   \n",
       "\n",
       "   AVG SENTENCE LENGTH  PERCENTAGE OF COMPLEX WORDS  FOG INDEX  \\\n",
       "0            11.416667                     0.427007   4.737470   \n",
       "1            10.040000                     0.414343   4.181737   \n",
       "2            85.625000                     0.321168  34.378467   \n",
       "3             5.296296                     0.314685   2.244393   \n",
       "4             9.812500                     0.445860   4.103344   \n",
       "\n",
       "   AVG NUMBER OF WORDS PER SENTENCE  COMPLEX WORD COUNT  WORD COUNT  \\\n",
       "0                         11.416667               117.0       274.0   \n",
       "1                         10.040000               208.0       502.0   \n",
       "2                         85.625000               220.0       685.0   \n",
       "3                          5.296296                45.0       143.0   \n",
       "4                          9.812500                70.0       157.0   \n",
       "\n",
       "   SYLLABLE PER WORD  PERSONAL PRONOUNS  AVG WORD LENGTH  \n",
       "0           2.412409               13.0         8.222628  \n",
       "1           2.374502               13.0         7.758964  \n",
       "2           2.116788               13.0         7.170803  \n",
       "3           2.258741               10.0         7.923077  \n",
       "4           2.267516               13.0         7.343949  "
      ]
     },
     "execution_count": 56,
     "metadata": {},
     "output_type": "execute_result"
    }
   ],
   "source": [
    "output.head()"
   ]
  },
  {
   "cell_type": "code",
   "execution_count": 58,
   "metadata": {
    "executionInfo": {
     "elapsed": 3,
     "status": "ok",
     "timestamp": 1702377800068,
     "user": {
      "displayName": "hari prasad",
      "userId": "12443985723574392235"
     },
     "user_tz": -330
    },
    "id": "bKjp0vsUkCHy"
   },
   "outputs": [],
   "source": [
    "output.to_excel('Outputdata.xlsx',index=False)"
   ]
  },
  {
   "cell_type": "code",
   "execution_count": 60,
   "metadata": {
    "colab": {
     "base_uri": "https://localhost:8080/"
    },
    "executionInfo": {
     "elapsed": 6,
     "status": "ok",
     "timestamp": 1702378344105,
     "user": {
      "displayName": "hari prasad",
      "userId": "12443985723574392235"
     },
     "user_tz": -330
    },
    "id": "pcG3Hsm1pxQP",
    "outputId": "6900d9f0-0eca-4e19-9902-4a8b6926da57"
   },
   "outputs": [
    {
     "data": {
      "text/plain": [
       "717685"
      ]
     },
     "execution_count": 60,
     "metadata": {},
     "output_type": "execute_result"
    }
   ],
   "source": [
    "text=' '.join(text_list)\n",
    "len(text)"
   ]
  },
  {
   "cell_type": "code",
   "execution_count": 61,
   "metadata": {
    "executionInfo": {
     "elapsed": 452,
     "status": "ok",
     "timestamp": 1702378364104,
     "user": {
      "displayName": "hari prasad",
      "userId": "12443985723574392235"
     },
     "user_tz": -330
    },
    "id": "AsxNUaq0n3Yg"
   },
   "outputs": [],
   "source": [
    "with open('articles_text.txt','w') as fe:\n",
    "  fe.write(text)"
   ]
  },
  {
   "cell_type": "code",
   "execution_count": null,
   "metadata": {},
   "outputs": [],
   "source": []
  }
 ],
 "metadata": {
  "accelerator": "GPU",
  "colab": {
   "authorship_tag": "ABX9TyOAbNkqyylBMp0kQqHJbERK",
   "gpuType": "T4",
   "provenance": []
  },
  "kernelspec": {
   "display_name": "Python 3 (ipykernel)",
   "language": "python",
   "name": "python3"
  },
  "language_info": {
   "codemirror_mode": {
    "name": "ipython",
    "version": 3
   },
   "file_extension": ".py",
   "mimetype": "text/x-python",
   "name": "python",
   "nbconvert_exporter": "python",
   "pygments_lexer": "ipython3",
   "version": "3.9.12"
  }
 },
 "nbformat": 4,
 "nbformat_minor": 4
}
